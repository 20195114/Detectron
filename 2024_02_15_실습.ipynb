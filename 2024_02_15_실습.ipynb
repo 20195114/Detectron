{
  "nbformat": 4,
  "nbformat_minor": 0,
  "metadata": {
    "colab": {
      "provenance": [],
      "authorship_tag": "ABX9TyM/gZc2oH2GDpWn75BSkFZO",
      "include_colab_link": true
    },
    "kernelspec": {
      "name": "python3",
      "display_name": "Python 3"
    },
    "language_info": {
      "name": "python"
    }
  },
  "cells": [
    {
      "cell_type": "markdown",
      "metadata": {
        "id": "view-in-github",
        "colab_type": "text"
      },
      "source": [
        "<a href=\"https://colab.research.google.com/github/20195114/Detectron/blob/main/2024_02_15_%EC%8B%A4%EC%8A%B5.ipynb\" target=\"_parent\"><img src=\"https://colab.research.google.com/assets/colab-badge.svg\" alt=\"Open In Colab\"/></a>"
      ]
    },
    {
      "cell_type": "code",
      "source": [
        "import numpy as np\n",
        "import pandas as pd\n"
      ],
      "metadata": {
        "id": "HQe-zvwQHSUp"
      },
      "execution_count": 2,
      "outputs": []
    },
    {
      "cell_type": "code",
      "execution_count": 8,
      "metadata": {
        "id": "Ywg-kKV4Frrn",
        "colab": {
          "base_uri": "https://localhost:8080/"
        },
        "outputId": "567f7e6b-c82e-435f-e13a-57a99dbf3e7d"
      },
      "outputs": [
        {
          "output_type": "stream",
          "name": "stdout",
          "text": [
            "     인삿말    국가\n",
            "2    헬로우    미국\n",
            "3  키아 오라  뉴질랜드\n",
            "4  안녕하세요    한국\n"
          ]
        }
      ],
      "source": [
        "# 데이터 전처리\n",
        "# 중복 데이터 제거\n",
        "# 중복된 데이터가 존재하면 분석 결과를 왜곡할 수 있음\n",
        "# 중복된 데이터가 존재하면 중복 데이터가 분석할 때 영향을 더 많이 주게 됨\n",
        "# 데이터 생성\n",
        "df = pd.DataFrame([['안녕하세요', '반갑습니다', '헬로우', '키아 오라', '안녕하세요'],['한국', '한국', '미국', '뉴질랜드', '한국']])\n",
        "\n",
        "#행 열 전치\n",
        "df = df.T\n",
        "df.columns = ['인삿말', '국가']\n",
        "# 데이터 확인\n",
        "# print(df)\n",
        "\n",
        "# help(df.drop_duplicates)\n",
        "#중복 확인\n",
        "# print(df.duplicated()) # 모든 컬럼의 값이 중복된 경우를 확인\n",
        "# print(df.duplicated(subset=['국가'])) # 국가 컬럼의 값이 중복된 경우를 확인\n",
        "\n",
        "#중복 데이터 제거\n",
        "# print(df.drop_duplicates(subset=['국가'])) #기본은 앞의 데이터가 보존\n",
        "print(df.drop_duplicates(subset=['국가'], keep = 'last')) #마지막 데이터를 보존\n",
        "\n"
      ]
    },
    {
      "cell_type": "code",
      "source": [
        "!pip install seaborn"
      ],
      "metadata": {
        "colab": {
          "base_uri": "https://localhost:8080/"
        },
        "id": "fxs4wCDHK_Ds",
        "outputId": "747d761b-1e33-4e54-9062-5a8e41dc2b64"
      },
      "execution_count": 9,
      "outputs": [
        {
          "output_type": "stream",
          "name": "stdout",
          "text": [
            "Requirement already satisfied: seaborn in /usr/local/lib/python3.10/dist-packages (0.13.1)\n",
            "Requirement already satisfied: numpy!=1.24.0,>=1.20 in /usr/local/lib/python3.10/dist-packages (from seaborn) (1.25.2)\n",
            "Requirement already satisfied: pandas>=1.2 in /usr/local/lib/python3.10/dist-packages (from seaborn) (1.5.3)\n",
            "Requirement already satisfied: matplotlib!=3.6.1,>=3.4 in /usr/local/lib/python3.10/dist-packages (from seaborn) (3.7.1)\n",
            "Requirement already satisfied: contourpy>=1.0.1 in /usr/local/lib/python3.10/dist-packages (from matplotlib!=3.6.1,>=3.4->seaborn) (1.2.0)\n",
            "Requirement already satisfied: cycler>=0.10 in /usr/local/lib/python3.10/dist-packages (from matplotlib!=3.6.1,>=3.4->seaborn) (0.12.1)\n",
            "Requirement already satisfied: fonttools>=4.22.0 in /usr/local/lib/python3.10/dist-packages (from matplotlib!=3.6.1,>=3.4->seaborn) (4.48.1)\n",
            "Requirement already satisfied: kiwisolver>=1.0.1 in /usr/local/lib/python3.10/dist-packages (from matplotlib!=3.6.1,>=3.4->seaborn) (1.4.5)\n",
            "Requirement already satisfied: packaging>=20.0 in /usr/local/lib/python3.10/dist-packages (from matplotlib!=3.6.1,>=3.4->seaborn) (23.2)\n",
            "Requirement already satisfied: pillow>=6.2.0 in /usr/local/lib/python3.10/dist-packages (from matplotlib!=3.6.1,>=3.4->seaborn) (9.4.0)\n",
            "Requirement already satisfied: pyparsing>=2.3.1 in /usr/local/lib/python3.10/dist-packages (from matplotlib!=3.6.1,>=3.4->seaborn) (3.1.1)\n",
            "Requirement already satisfied: python-dateutil>=2.7 in /usr/local/lib/python3.10/dist-packages (from matplotlib!=3.6.1,>=3.4->seaborn) (2.8.2)\n",
            "Requirement already satisfied: pytz>=2020.1 in /usr/local/lib/python3.10/dist-packages (from pandas>=1.2->seaborn) (2023.4)\n",
            "Requirement already satisfied: six>=1.5 in /usr/local/lib/python3.10/dist-packages (from python-dateutil>=2.7->matplotlib!=3.6.1,>=3.4->seaborn) (1.16.0)\n"
          ]
        }
      ]
    },
    {
      "cell_type": "code",
      "source": [
        "# 타이타닉 데이터 불러오기\n",
        "import seaborn as sns\n",
        "titanic = sns.load_dataset('titanic')\n",
        "titanic.info()\n"
      ],
      "metadata": {
        "colab": {
          "base_uri": "https://localhost:8080/"
        },
        "id": "4KVGG7-rK0_F",
        "outputId": "593e2036-6ade-4f4b-d164-7c8a16b000b6"
      },
      "execution_count": 12,
      "outputs": [
        {
          "output_type": "stream",
          "name": "stdout",
          "text": [
            "<class 'pandas.core.frame.DataFrame'>\n",
            "RangeIndex: 891 entries, 0 to 890\n",
            "Data columns (total 15 columns):\n",
            " #   Column       Non-Null Count  Dtype   \n",
            "---  ------       --------------  -----   \n",
            " 0   survived     891 non-null    int64   \n",
            " 1   pclass       891 non-null    int64   \n",
            " 2   sex          891 non-null    object  \n",
            " 3   age          714 non-null    float64 \n",
            " 4   sibsp        891 non-null    int64   \n",
            " 5   parch        891 non-null    int64   \n",
            " 6   fare         891 non-null    float64 \n",
            " 7   embarked     889 non-null    object  \n",
            " 8   class        891 non-null    category\n",
            " 9   who          891 non-null    object  \n",
            " 10  adult_male   891 non-null    bool    \n",
            " 11  deck         203 non-null    category\n",
            " 12  embark_town  889 non-null    object  \n",
            " 13  alive        891 non-null    object  \n",
            " 14  alone        891 non-null    bool    \n",
            "dtypes: bool(2), category(2), float64(2), int64(4), object(5)\n",
            "memory usage: 80.7+ KB\n"
          ]
        }
      ]
    },
    {
      "cell_type": "code",
      "source": [
        "# apply 함수 적용\n",
        "\n",
        "df = titanic[['sex', 'age']]\n",
        "# print(df.head())\n",
        "\n",
        "#실수 1개를 받아서 1을 더해서 리턴하는 함수\n",
        "def plusone(data: float) -> float:\n",
        "  return data + 1\n",
        "\n",
        "# 함수를 만들어서 적용\n",
        "#df['age'] = df['age'] +1\n",
        "df['age'] = df['age'].apply(plusone)\n",
        "# print(df.head())\n",
        "\n",
        "#람다 함수를 이용해서 위와 동일한 작업을 수행\n",
        "# lambda x: x + 1\n",
        "# df['age'] = df['age'].apply(lambda x: x + 1)\n",
        "# df['age'] = df['age'].apply(lambda data : data + 1)\n",
        "\n",
        "# print(df.head())\n",
        "\n",
        "# sex 열의 모든 내용을 대문자로 변경 - 문자열 클래스에서 대문자로 변경해주는 메서드가 있는지\n",
        "df['sex'] = df['sex'].apply(str.upper)\n",
        "print(df.head())\n",
        "\n",
        "#데이터 프레임에 apply를 사용하면 함수에 열이 대입됩니다.\n",
        "# 아래같은 하나의 열에 str.upper를 적용한 것이므로 에러가 발생합니다.\n",
        "# 데이터 프레임에 apply를 적용할 때는 series에 매개변수로 받아서 처리하는 함수를 대입\n",
        "# df = df.apply(str.upper)\n",
        "# print(df.head())\n",
        "\n",
        "#series를 받아서 각 데이터가 null 인지 확인해주는 함수\n",
        "def missing_value(series : pd.Series) -> pd.Series:\n",
        "  return series.isnull()\n",
        "result = df.apply(missing_value)\n",
        "print(result.head())\n"
      ],
      "metadata": {
        "colab": {
          "base_uri": "https://localhost:8080/"
        },
        "id": "Txndif-rHpql",
        "outputId": "d7b6c706-bbfc-4692-9427-a9103d8292b3"
      },
      "execution_count": 27,
      "outputs": [
        {
          "output_type": "stream",
          "name": "stdout",
          "text": [
            "      sex   age\n",
            "0    MALE  23.0\n",
            "1  FEMALE  39.0\n",
            "2  FEMALE  27.0\n",
            "3  FEMALE  36.0\n",
            "4    MALE  36.0\n",
            "     sex    age\n",
            "0  False  False\n",
            "1  False  False\n",
            "2  False  False\n",
            "3  False  False\n",
            "4  False  False\n"
          ]
        },
        {
          "output_type": "stream",
          "name": "stderr",
          "text": [
            "<ipython-input-27-943b15fd040d>:12: SettingWithCopyWarning: \n",
            "A value is trying to be set on a copy of a slice from a DataFrame.\n",
            "Try using .loc[row_indexer,col_indexer] = value instead\n",
            "\n",
            "See the caveats in the documentation: https://pandas.pydata.org/pandas-docs/stable/user_guide/indexing.html#returning-a-view-versus-a-copy\n",
            "  df['age'] = df['age'].apply(plusone)\n",
            "<ipython-input-27-943b15fd040d>:23: SettingWithCopyWarning: \n",
            "A value is trying to be set on a copy of a slice from a DataFrame.\n",
            "Try using .loc[row_indexer,col_indexer] = value instead\n",
            "\n",
            "See the caveats in the documentation: https://pandas.pydata.org/pandas-docs/stable/user_guide/indexing.html#returning-a-view-versus-a-copy\n",
            "  df['sex'] = df['sex'].apply(str.upper)\n"
          ]
        }
      ]
    },
    {
      "cell_type": "code",
      "source": [
        "!ls"
      ],
      "metadata": {
        "id": "OMC72l-qKezw"
      },
      "execution_count": null,
      "outputs": []
    },
    {
      "cell_type": "code",
      "source": [
        "import os\n",
        "print('stock price.xlsx' in os.listdir())\n",
        "print('stock valuation.xlsx' in os.listdir())"
      ],
      "metadata": {
        "colab": {
          "base_uri": "https://localhost:8080/"
        },
        "id": "D-8Pwr97KuyZ",
        "outputId": "b35f501a-fb97-4d82-e0de-076a86f2356e"
      },
      "execution_count": 13,
      "outputs": [
        {
          "output_type": "stream",
          "name": "stdout",
          "text": [
            "False\n",
            "False\n"
          ]
        }
      ]
    },
    {
      "cell_type": "code",
      "source": [
        "!ls"
      ],
      "metadata": {
        "colab": {
          "base_uri": "https://localhost:8080/"
        },
        "id": "_iVxU-AVLXmI",
        "outputId": "469409c5-d4ad-4e67-8f8b-3756f1ff586c"
      },
      "execution_count": 15,
      "outputs": [
        {
          "output_type": "stream",
          "name": "stdout",
          "text": [
            "sample_data\n"
          ]
        }
      ]
    },
    {
      "cell_type": "code",
      "source": [
        "!pip install openpyxl"
      ],
      "metadata": {
        "colab": {
          "base_uri": "https://localhost:8080/"
        },
        "id": "B2WGqn0XLapX",
        "outputId": "52681903-0cfa-4372-ffbb-9f822a9d14d9"
      },
      "execution_count": 16,
      "outputs": [
        {
          "output_type": "stream",
          "name": "stdout",
          "text": [
            "Requirement already satisfied: openpyxl in /usr/local/lib/python3.10/dist-packages (3.1.2)\n",
            "Requirement already satisfied: et-xmlfile in /usr/local/lib/python3.10/dist-packages (from openpyxl) (1.1.0)\n"
          ]
        }
      ]
    },
    {
      "cell_type": "code",
      "source": [
        "from google.colab import files\n",
        "myfile = files.upload()"
      ],
      "metadata": {
        "colab": {
          "base_uri": "https://localhost:8080/",
          "height": 144
        },
        "id": "wJtQ3EYAJ5DL",
        "outputId": "72aa02be-d74d-4fff-8d60-c4e5723c5b14"
      },
      "execution_count": 20,
      "outputs": [
        {
          "output_type": "display_data",
          "data": {
            "text/plain": [
              "<IPython.core.display.HTML object>"
            ],
            "text/html": [
              "\n",
              "     <input type=\"file\" id=\"files-b19b5627-4516-4972-9257-820ef0ce34a0\" name=\"files[]\" multiple disabled\n",
              "        style=\"border:none\" />\n",
              "     <output id=\"result-b19b5627-4516-4972-9257-820ef0ce34a0\">\n",
              "      Upload widget is only available when the cell has been executed in the\n",
              "      current browser session. Please rerun this cell to enable.\n",
              "      </output>\n",
              "      <script>// Copyright 2017 Google LLC\n",
              "//\n",
              "// Licensed under the Apache License, Version 2.0 (the \"License\");\n",
              "// you may not use this file except in compliance with the License.\n",
              "// You may obtain a copy of the License at\n",
              "//\n",
              "//      http://www.apache.org/licenses/LICENSE-2.0\n",
              "//\n",
              "// Unless required by applicable law or agreed to in writing, software\n",
              "// distributed under the License is distributed on an \"AS IS\" BASIS,\n",
              "// WITHOUT WARRANTIES OR CONDITIONS OF ANY KIND, either express or implied.\n",
              "// See the License for the specific language governing permissions and\n",
              "// limitations under the License.\n",
              "\n",
              "/**\n",
              " * @fileoverview Helpers for google.colab Python module.\n",
              " */\n",
              "(function(scope) {\n",
              "function span(text, styleAttributes = {}) {\n",
              "  const element = document.createElement('span');\n",
              "  element.textContent = text;\n",
              "  for (const key of Object.keys(styleAttributes)) {\n",
              "    element.style[key] = styleAttributes[key];\n",
              "  }\n",
              "  return element;\n",
              "}\n",
              "\n",
              "// Max number of bytes which will be uploaded at a time.\n",
              "const MAX_PAYLOAD_SIZE = 100 * 1024;\n",
              "\n",
              "function _uploadFiles(inputId, outputId) {\n",
              "  const steps = uploadFilesStep(inputId, outputId);\n",
              "  const outputElement = document.getElementById(outputId);\n",
              "  // Cache steps on the outputElement to make it available for the next call\n",
              "  // to uploadFilesContinue from Python.\n",
              "  outputElement.steps = steps;\n",
              "\n",
              "  return _uploadFilesContinue(outputId);\n",
              "}\n",
              "\n",
              "// This is roughly an async generator (not supported in the browser yet),\n",
              "// where there are multiple asynchronous steps and the Python side is going\n",
              "// to poll for completion of each step.\n",
              "// This uses a Promise to block the python side on completion of each step,\n",
              "// then passes the result of the previous step as the input to the next step.\n",
              "function _uploadFilesContinue(outputId) {\n",
              "  const outputElement = document.getElementById(outputId);\n",
              "  const steps = outputElement.steps;\n",
              "\n",
              "  const next = steps.next(outputElement.lastPromiseValue);\n",
              "  return Promise.resolve(next.value.promise).then((value) => {\n",
              "    // Cache the last promise value to make it available to the next\n",
              "    // step of the generator.\n",
              "    outputElement.lastPromiseValue = value;\n",
              "    return next.value.response;\n",
              "  });\n",
              "}\n",
              "\n",
              "/**\n",
              " * Generator function which is called between each async step of the upload\n",
              " * process.\n",
              " * @param {string} inputId Element ID of the input file picker element.\n",
              " * @param {string} outputId Element ID of the output display.\n",
              " * @return {!Iterable<!Object>} Iterable of next steps.\n",
              " */\n",
              "function* uploadFilesStep(inputId, outputId) {\n",
              "  const inputElement = document.getElementById(inputId);\n",
              "  inputElement.disabled = false;\n",
              "\n",
              "  const outputElement = document.getElementById(outputId);\n",
              "  outputElement.innerHTML = '';\n",
              "\n",
              "  const pickedPromise = new Promise((resolve) => {\n",
              "    inputElement.addEventListener('change', (e) => {\n",
              "      resolve(e.target.files);\n",
              "    });\n",
              "  });\n",
              "\n",
              "  const cancel = document.createElement('button');\n",
              "  inputElement.parentElement.appendChild(cancel);\n",
              "  cancel.textContent = 'Cancel upload';\n",
              "  const cancelPromise = new Promise((resolve) => {\n",
              "    cancel.onclick = () => {\n",
              "      resolve(null);\n",
              "    };\n",
              "  });\n",
              "\n",
              "  // Wait for the user to pick the files.\n",
              "  const files = yield {\n",
              "    promise: Promise.race([pickedPromise, cancelPromise]),\n",
              "    response: {\n",
              "      action: 'starting',\n",
              "    }\n",
              "  };\n",
              "\n",
              "  cancel.remove();\n",
              "\n",
              "  // Disable the input element since further picks are not allowed.\n",
              "  inputElement.disabled = true;\n",
              "\n",
              "  if (!files) {\n",
              "    return {\n",
              "      response: {\n",
              "        action: 'complete',\n",
              "      }\n",
              "    };\n",
              "  }\n",
              "\n",
              "  for (const file of files) {\n",
              "    const li = document.createElement('li');\n",
              "    li.append(span(file.name, {fontWeight: 'bold'}));\n",
              "    li.append(span(\n",
              "        `(${file.type || 'n/a'}) - ${file.size} bytes, ` +\n",
              "        `last modified: ${\n",
              "            file.lastModifiedDate ? file.lastModifiedDate.toLocaleDateString() :\n",
              "                                    'n/a'} - `));\n",
              "    const percent = span('0% done');\n",
              "    li.appendChild(percent);\n",
              "\n",
              "    outputElement.appendChild(li);\n",
              "\n",
              "    const fileDataPromise = new Promise((resolve) => {\n",
              "      const reader = new FileReader();\n",
              "      reader.onload = (e) => {\n",
              "        resolve(e.target.result);\n",
              "      };\n",
              "      reader.readAsArrayBuffer(file);\n",
              "    });\n",
              "    // Wait for the data to be ready.\n",
              "    let fileData = yield {\n",
              "      promise: fileDataPromise,\n",
              "      response: {\n",
              "        action: 'continue',\n",
              "      }\n",
              "    };\n",
              "\n",
              "    // Use a chunked sending to avoid message size limits. See b/62115660.\n",
              "    let position = 0;\n",
              "    do {\n",
              "      const length = Math.min(fileData.byteLength - position, MAX_PAYLOAD_SIZE);\n",
              "      const chunk = new Uint8Array(fileData, position, length);\n",
              "      position += length;\n",
              "\n",
              "      const base64 = btoa(String.fromCharCode.apply(null, chunk));\n",
              "      yield {\n",
              "        response: {\n",
              "          action: 'append',\n",
              "          file: file.name,\n",
              "          data: base64,\n",
              "        },\n",
              "      };\n",
              "\n",
              "      let percentDone = fileData.byteLength === 0 ?\n",
              "          100 :\n",
              "          Math.round((position / fileData.byteLength) * 100);\n",
              "      percent.textContent = `${percentDone}% done`;\n",
              "\n",
              "    } while (position < fileData.byteLength);\n",
              "  }\n",
              "\n",
              "  // All done.\n",
              "  yield {\n",
              "    response: {\n",
              "      action: 'complete',\n",
              "    }\n",
              "  };\n",
              "}\n",
              "\n",
              "scope.google = scope.google || {};\n",
              "scope.google.colab = scope.google.colab || {};\n",
              "scope.google.colab._files = {\n",
              "  _uploadFiles,\n",
              "  _uploadFilesContinue,\n",
              "};\n",
              "})(self);\n",
              "</script> "
            ]
          },
          "metadata": {}
        },
        {
          "output_type": "stream",
          "name": "stdout",
          "text": [
            "Saving stock price.xlsx to stock price.xlsx\n",
            "Saving stock valuation.xlsx to stock valuation.xlsx\n"
          ]
        }
      ]
    },
    {
      "cell_type": "code",
      "source": [
        "from google.colab import drive\n",
        "drive.mount('/content/drive')"
      ],
      "metadata": {
        "colab": {
          "base_uri": "https://localhost:8080/"
        },
        "id": "WXW6_qwTMCfb",
        "outputId": "9cb55ce3-d746-4b4a-ceb1-f46e6e86ce60"
      },
      "execution_count": 21,
      "outputs": [
        {
          "output_type": "stream",
          "name": "stdout",
          "text": [
            "Mounted at /content/drive\n"
          ]
        }
      ]
    },
    {
      "cell_type": "code",
      "source": [
        "import pandas as pd"
      ],
      "metadata": {
        "id": "Igk_mXAJMLcM"
      },
      "execution_count": 22,
      "outputs": []
    },
    {
      "cell_type": "code",
      "source": [
        "price = pd.read_excel('stock price.xlsx')\n",
        "valuation = pd.read_excel('stock valuation.xlsx')\n",
        "\n",
        "print(price.head())\n",
        "print(valuation.head())"
      ],
      "metadata": {
        "colab": {
          "base_uri": "https://localhost:8080/"
        },
        "id": "CWrtqEOFMPSd",
        "outputId": "9fbbab8c-c387-4392-dff6-1de221224072"
      },
      "execution_count": 23,
      "outputs": [
        {
          "output_type": "stream",
          "name": "stdout",
          "text": [
            "       id stock_name          value   price\n",
            "0  128940       한미약품   59385.666667  421000\n",
            "1  130960     CJ E&M   58540.666667   98900\n",
            "2  138250      엔에스쇼핑   14558.666667   13200\n",
            "3  139480        이마트  239230.833333  254500\n",
            "4  142280     녹십자엠에스     468.833333   10200\n",
            "       id     name           eps     bps        per       pbr\n",
            "0  130960   CJ E&M   6301.333333   54068  15.695091  1.829178\n",
            "1  136480       하림    274.166667    3551  11.489362  0.887074\n",
            "2  138040  메리츠금융지주   2122.333333   14894   6.313806  0.899691\n",
            "3  139480      이마트  18268.166667  295780  13.931338  0.860437\n",
            "4  145990      삼양사   5741.000000  108090  14.283226  0.758627\n"
          ]
        }
      ]
    },
    {
      "cell_type": "code",
      "source": [
        "#join은 기본적으로 index를 가지고 join을 수행\n",
        "price.index = price[\"id\"]\n",
        "valuation.index = valuation['id']\n",
        "\n",
        "#동일한 컬럼 이름 제거\n",
        "price.drop(['id'], axis = 1, inplace= True)\n",
        "valuation.drop(['id'], axis = 1, inplace= True)\n",
        "\n",
        "print(price.join(valuation))"
      ],
      "metadata": {
        "colab": {
          "base_uri": "https://localhost:8080/"
        },
        "id": "Lo2040hxMZqq",
        "outputId": "d60e4441-c224-47c4-b8b8-b62019c61800"
      },
      "execution_count": 25,
      "outputs": [
        {
          "output_type": "stream",
          "name": "stdout",
          "text": [
            "       stock_name          value   price    name           eps       bps  \\\n",
            "id                                                                         \n",
            "128940       한미약품   59385.666667  421000     NaN           NaN       NaN   \n",
            "130960     CJ E&M   58540.666667   98900  CJ E&M   6301.333333   54068.0   \n",
            "138250      엔에스쇼핑   14558.666667   13200     NaN           NaN       NaN   \n",
            "139480        이마트  239230.833333  254500     이마트  18268.166667  295780.0   \n",
            "142280     녹십자엠에스     468.833333   10200     NaN           NaN       NaN   \n",
            "145990        삼양사   82750.000000   82000     삼양사   5741.000000  108090.0   \n",
            "185750        종근당   40293.666667  100500     종근당   3990.333333   40684.0   \n",
            "192400      쿠쿠홀딩스  179204.666667  177500     NaN           NaN       NaN   \n",
            "199800         툴젠   -2514.333333  115400     NaN           NaN       NaN   \n",
            "204210     모두투어리츠    3093.333333    3475  모두투어리츠     85.166667    5335.0   \n",
            "\n",
            "              per       pbr  \n",
            "id                           \n",
            "128940        NaN       NaN  \n",
            "130960  15.695091  1.829178  \n",
            "138250        NaN       NaN  \n",
            "139480  13.931338  0.860437  \n",
            "142280        NaN       NaN  \n",
            "145990  14.283226  0.758627  \n",
            "185750  25.185866  2.470259  \n",
            "192400        NaN       NaN  \n",
            "199800        NaN       NaN  \n",
            "204210  40.802348  0.651359  \n"
          ]
        }
      ]
    },
    {
      "cell_type": "code",
      "source": [
        "li = []\n",
        "print(dir(li))"
      ],
      "metadata": {
        "colab": {
          "base_uri": "https://localhost:8080/"
        },
        "id": "jy8FQP6CMn-J",
        "outputId": "4120394e-ccd1-4d97-d6e4-5d9b067c54af"
      },
      "execution_count": 26,
      "outputs": [
        {
          "output_type": "stream",
          "name": "stdout",
          "text": [
            "['__add__', '__class__', '__class_getitem__', '__contains__', '__delattr__', '__delitem__', '__dir__', '__doc__', '__eq__', '__format__', '__ge__', '__getattribute__', '__getitem__', '__gt__', '__hash__', '__iadd__', '__imul__', '__init__', '__init_subclass__', '__iter__', '__le__', '__len__', '__lt__', '__mul__', '__ne__', '__new__', '__reduce__', '__reduce_ex__', '__repr__', '__reversed__', '__rmul__', '__setattr__', '__setitem__', '__sizeof__', '__str__', '__subclasshook__', 'append', 'clear', 'copy', 'count', 'extend', 'index', 'insert', 'pop', 'remove', 'reverse', 'sort']\n"
          ]
        }
      ]
    },
    {
      "cell_type": "code",
      "source": [
        "# 그룹연산\n",
        "# group by\n",
        "import seaborn as sns\n",
        "\n",
        "titanic = sns.load_dataset('titanic')\n",
        "\n",
        "df = titanic[['age', 'sex', 'class', 'fare', 'survived']]\n",
        "print(df.head())\n",
        "\n",
        "#그룹화\n",
        "grouped = df.groupby(['class'])\n",
        "# 그룹화 한 후 각 그룹의 데이터 개수 출력\n",
        "for key, group in grouped:\n",
        "  print(key, len(group))"
      ],
      "metadata": {
        "colab": {
          "base_uri": "https://localhost:8080/"
        },
        "id": "FkZVzPX_O6J5",
        "outputId": "cfea74a9-b7ca-4b02-8d4b-b92e44117508"
      },
      "execution_count": 31,
      "outputs": [
        {
          "output_type": "stream",
          "name": "stdout",
          "text": [
            "    age     sex  class     fare  survived\n",
            "0  22.0    male  Third   7.2500         0\n",
            "1  38.0  female  First  71.2833         1\n",
            "2  26.0  female  Third   7.9250         1\n",
            "3  35.0  female  First  53.1000         1\n",
            "4  35.0    male  Third   8.0500         0\n",
            "First 216\n",
            "Second 184\n",
            "Third 491\n"
          ]
        },
        {
          "output_type": "stream",
          "name": "stderr",
          "text": [
            "<ipython-input-31-9b27075eac5e>:13: FutureWarning: In a future version of pandas, a length 1 tuple will be returned when iterating over a groupby with a grouper equal to a list of length 1. Don't supply a list with a single grouper to avoid this warning.\n",
            "  for key, group in grouped:\n"
          ]
        }
      ]
    },
    {
      "cell_type": "code",
      "source": [
        "avg = grouped.mean()\n",
        "print(avg)"
      ],
      "metadata": {
        "colab": {
          "base_uri": "https://localhost:8080/"
        },
        "id": "Y4tO_z2-QQge",
        "outputId": "8eee26c9-7100-449d-8e9a-4e9ede36dc21"
      },
      "execution_count": 32,
      "outputs": [
        {
          "output_type": "stream",
          "name": "stdout",
          "text": [
            "              age       fare  survived\n",
            "class                                 \n",
            "First   38.233441  84.154687  0.629630\n",
            "Second  29.877630  20.662183  0.472826\n",
            "Third   25.140620  13.675550  0.242363\n"
          ]
        },
        {
          "output_type": "stream",
          "name": "stderr",
          "text": [
            "<ipython-input-32-0c86db50e261>:1: FutureWarning: The default value of numeric_only in DataFrameGroupBy.mean is deprecated. In a future version, numeric_only will default to False. Either specify numeric_only or select only columns which should be valid for the function.\n",
            "  avg = grouped.mean()\n"
          ]
        }
      ]
    },
    {
      "cell_type": "code",
      "source": [
        "#특정 그룹의 데이터 선택\n",
        "group3 = grouped.get_group('Third')\n",
        "print(group3.head())"
      ],
      "metadata": {
        "colab": {
          "base_uri": "https://localhost:8080/"
        },
        "id": "E3nn1te2Qchu",
        "outputId": "232d6be7-0c8d-418a-d13e-f85cf3547ade"
      },
      "execution_count": 33,
      "outputs": [
        {
          "output_type": "stream",
          "name": "stdout",
          "text": [
            "    age     sex  class     fare  survived\n",
            "0  22.0    male  Third   7.2500         0\n",
            "2  26.0  female  Third   7.9250         1\n",
            "4  35.0    male  Third   8.0500         0\n",
            "5   NaN    male  Third   8.4583         0\n",
            "7   2.0    male  Third  21.0750         0\n"
          ]
        }
      ]
    },
    {
      "cell_type": "code",
      "source": [
        "# 2개의 열로 그룹화 - key 가 2개 항복의 튜플로 만들어 집니다.\n",
        "grouped = df.groupby(['class', 'sex'])\n",
        "for key, group in grouped:\n",
        "  print(key)"
      ],
      "metadata": {
        "colab": {
          "base_uri": "https://localhost:8080/"
        },
        "id": "1NizulZEQ5En",
        "outputId": "4a098d4b-952d-48f3-8481-d2bdf98d92d9"
      },
      "execution_count": 34,
      "outputs": [
        {
          "output_type": "stream",
          "name": "stdout",
          "text": [
            "('First', 'female')\n",
            "('First', 'male')\n",
            "('Second', 'female')\n",
            "('Second', 'male')\n",
            "('Third', 'female')\n",
            "('Third', 'male')\n"
          ]
        }
      ]
    },
    {
      "cell_type": "code",
      "source": [
        "group3m = grouped.get_group(('Third', 'male'))\n",
        "print(group3m.head())"
      ],
      "metadata": {
        "colab": {
          "base_uri": "https://localhost:8080/"
        },
        "id": "TUCusdCIRWrk",
        "outputId": "cbd01b4c-c09f-49e6-9d95-e314bcb52a8e"
      },
      "execution_count": 35,
      "outputs": [
        {
          "output_type": "stream",
          "name": "stdout",
          "text": [
            "     age   sex  class     fare  survived\n",
            "0   22.0  male  Third   7.2500         0\n",
            "4   35.0  male  Third   8.0500         0\n",
            "5    NaN  male  Third   8.4583         0\n",
            "7    2.0  male  Third  21.0750         0\n",
            "12  20.0  male  Third   8.0500         0\n"
          ]
        }
      ]
    },
    {
      "cell_type": "code",
      "source": [
        "print(dir(grouped))"
      ],
      "metadata": {
        "colab": {
          "base_uri": "https://localhost:8080/"
        },
        "id": "3jqmfwupSZOW",
        "outputId": "8648827b-9a35-44f0-b6f0-4768c9b0fbc2"
      },
      "execution_count": 37,
      "outputs": [
        {
          "output_type": "stream",
          "name": "stdout",
          "text": [
            "['__annotations__', '__class__', '__class_getitem__', '__delattr__', '__dict__', '__dir__', '__doc__', '__eq__', '__format__', '__ge__', '__getattr__', '__getattribute__', '__getitem__', '__gt__', '__hash__', '__init__', '__init_subclass__', '__iter__', '__le__', '__len__', '__lt__', '__module__', '__ne__', '__new__', '__orig_bases__', '__parameters__', '__reduce__', '__reduce_ex__', '__repr__', '__setattr__', '__sizeof__', '__slots__', '__str__', '__subclasshook__', '__weakref__', '_accessors', '_agg_examples_doc', '_agg_general', '_agg_py_fallback', '_aggregate_frame', '_aggregate_item_by_item', '_aggregate_with_numba', '_apply_allowlist', '_apply_filter', '_apply_to_column_groupbys', '_ascending_count', '_bool_agg', '_cache', '_choose_path', '_concat_objects', '_constructor', '_cumcount_array', '_cython_agg_general', '_cython_transform', '_define_paths', '_descending_count', '_dir_additions', '_dir_deletions', '_fill', '_get_cythonized_result', '_get_data_to_aggregate', '_get_index', '_get_indices', '_gotitem', '_group_selection', '_group_selection_context', '_hidden_attrs', '_indexed_output_to_ndframe', '_insert_inaxis_grouper_inplace', '_internal_names', '_internal_names_set', '_is_protocol', '_iterate_column_groupbys', '_iterate_slices', '_make_mask_from_int', '_make_mask_from_list', '_make_mask_from_positional_indexer', '_make_mask_from_slice', '_make_mask_from_tuple', '_make_wrapper', '_mask_selected_obj', '_maybe_warn_numeric_only_depr', '_nth', '_numba_agg_general', '_numba_prep', '_obj_1d_constructor', '_obj_with_exclusions', '_positional_selector', '_python_agg_general', '_python_apply_general', '_reindex_output', '_reset_cache', '_reset_group_selection', '_resolve_numeric_only', '_selected_obj', '_selection', '_selection_list', '_set_group_selection', '_set_result_index_ordered', '_transform', '_transform_general', '_transform_item_by_item', '_transform_with_numba', '_wrap_agged_manager', '_wrap_aggregated_output', '_wrap_applied_output', '_wrap_applied_output_series', '_wrap_transform_fast_result', '_wrap_transformed_output', 'age', 'agg', 'aggregate', 'all', 'any', 'apply', 'backfill', 'bfill', 'boxplot', 'class', 'corr', 'corrwith', 'count', 'cov', 'cumcount', 'cummax', 'cummin', 'cumprod', 'cumsum', 'describe', 'diff', 'dtypes', 'ewm', 'expanding', 'fare', 'ffill', 'fillna', 'filter', 'first', 'get_group', 'groups', 'head', 'hist', 'idxmax', 'idxmin', 'indices', 'last', 'mad', 'max', 'mean', 'median', 'min', 'ndim', 'ngroup', 'ngroups', 'nth', 'nunique', 'ohlc', 'pad', 'pct_change', 'pipe', 'plot', 'prod', 'quantile', 'rank', 'resample', 'rolling', 'sample', 'sem', 'sex', 'shift', 'size', 'skew', 'std', 'sum', 'survived', 'tail', 'take', 'transform', 'tshift', 'value_counts', 'var']\n"
          ]
        }
      ]
    },
    {
      "cell_type": "code",
      "source": [
        "# 집계연산\n",
        "# 제공되는 집계 함수를 호출\n",
        "df = titanic[['class', 'age']]\n",
        "# class 별로 그룹화해서 age의 표준 편차 확인\n",
        "grouped = df.groupby(['class'])\n",
        "std_all = grouped['age'].std()\n",
        "print(std_all)"
      ],
      "metadata": {
        "colab": {
          "base_uri": "https://localhost:8080/"
        },
        "id": "AGK8KGIcSqfa",
        "outputId": "8cc94708-04fd-4368-8a4c-429cdf79dbe5"
      },
      "execution_count": 40,
      "outputs": [
        {
          "output_type": "stream",
          "name": "stdout",
          "text": [
            "class\n",
            "First     14.802856\n",
            "Second    14.001077\n",
            "Third     12.495398\n",
            "Name: age, dtype: float64\n"
          ]
        }
      ]
    },
    {
      "cell_type": "code",
      "source": [
        "import numpy as np\n",
        "\n",
        "#데이터 모임을 가지고 하나의 값을 리턴하는 함수\n",
        "def min_max(x):\n",
        "  return x.max() - x.min()\n",
        "\n",
        "#사용자 정의 함수를 이용한 집계\n",
        "result = grouped.agg(min_max)\n",
        "print(result)"
      ],
      "metadata": {
        "colab": {
          "base_uri": "https://localhost:8080/"
        },
        "id": "t3J9ym7ETtGh",
        "outputId": "e698ee6e-f37c-462d-e913-fb9d3a8bcdeb"
      },
      "execution_count": 42,
      "outputs": [
        {
          "output_type": "stream",
          "name": "stdout",
          "text": [
            "          age\n",
            "class        \n",
            "First   79.08\n",
            "Second  69.33\n",
            "Third   73.58\n"
          ]
        }
      ]
    },
    {
      "cell_type": "code",
      "source": [
        "#age 열의 값을 z-score로 변환\n",
        "#z-score(표쥰점수): 값 - 평균 /표준편차\n",
        "#점수가 어느 정도에 위치하는지 알고자 할 때 사용\n",
        "import numpy as np\n",
        "\n",
        "#z-score 구해주는 함수\n",
        "def z_score(x):\n",
        "  return (x - x.mean()) / x.std()\n",
        "\n",
        "age_zscore = grouped.transform(z_score)\n",
        "print(age_zscore)"
      ],
      "metadata": {
        "colab": {
          "base_uri": "https://localhost:8080/"
        },
        "id": "7xafoHwDU42Z",
        "outputId": "2bedf9a9-d9de-49ff-ac32-6ebae48cf0e9"
      },
      "execution_count": 48,
      "outputs": [
        {
          "output_type": "stream",
          "name": "stdout",
          "text": [
            "          age\n",
            "0   -0.251342\n",
            "1   -0.015770\n",
            "2    0.068776\n",
            "3   -0.218434\n",
            "4    0.789041\n",
            "..        ...\n",
            "886 -0.205529\n",
            "887 -1.299306\n",
            "888       NaN\n",
            "889 -0.826424\n",
            "890  0.548953\n",
            "\n",
            "[891 rows x 1 columns]\n"
          ]
        }
      ]
    },
    {
      "cell_type": "code",
      "source": [
        "# 멀티 인덱스\n",
        "\n",
        "df = titanic[['class', 'sex', 'age']]\n",
        "#2 개의 컬럼을 이용해서 그룹화\n",
        "grouped = df.groupby(['class', 'sex'])\n",
        "# print(grouped)\n",
        "\n",
        "# for key in grouped :\n",
        "#   print(key)\n",
        "\n",
        "# age의 평균 구하기\n",
        "gdf = grouped.mean()\n",
        "#전체 출력\n",
        "# print(gdf)\n",
        "\n",
        "# age 개수 구하기\n",
        "gdf = grouped.count()\n",
        "# print(gdf)\n",
        "\n",
        "#특정 class 출력\n",
        "print(gdf.loc['First'])\n",
        "\n",
        "#특정 sex 출력\n",
        "print (gdf.xs('male', level = 'sex'))\n",
        "\n",
        "#특정 행 출력\n",
        "print(gdf.loc[('First', 'female')])\n"
      ],
      "metadata": {
        "colab": {
          "base_uri": "https://localhost:8080/"
        },
        "id": "tHI5IuXdW3Nu",
        "outputId": "b10e2da7-f31f-4ac1-b563-ff838989fec3"
      },
      "execution_count": 52,
      "outputs": [
        {
          "output_type": "stream",
          "name": "stdout",
          "text": [
            "        age\n",
            "sex        \n",
            "female   85\n",
            "male    101\n",
            "        age\n",
            "class      \n",
            "First   101\n",
            "Second   99\n",
            "Third   253\n",
            "age    85\n",
            "Name: (First, female), dtype: int64\n"
          ]
        }
      ]
    },
    {
      "cell_type": "code",
      "source": [
        "help(pd.pivot_table)"
      ],
      "metadata": {
        "colab": {
          "base_uri": "https://localhost:8080/"
        },
        "id": "gd_v2I8Qh5PH",
        "outputId": "8f336aff-4431-4822-e5db-28d96564819b"
      },
      "execution_count": 53,
      "outputs": [
        {
          "output_type": "stream",
          "name": "stdout",
          "text": [
            "Help on function pivot_table in module pandas.core.reshape.pivot:\n",
            "\n",
            "pivot_table(data: 'DataFrame', values=None, index=None, columns=None, aggfunc: 'AggFuncType' = 'mean', fill_value=None, margins: 'bool' = False, dropna: 'bool' = True, margins_name: 'str' = 'All', observed: 'bool' = False, sort: 'bool' = True) -> 'DataFrame'\n",
            "    Create a spreadsheet-style pivot table as a DataFrame.\n",
            "    \n",
            "    The levels in the pivot table will be stored in MultiIndex objects\n",
            "    (hierarchical indexes) on the index and columns of the result DataFrame.\n",
            "    \n",
            "    Parameters\n",
            "    ----------\n",
            "    data : DataFrame\n",
            "    values : column to aggregate, optional\n",
            "    index : column, Grouper, array, or list of the previous\n",
            "        If an array is passed, it must be the same length as the data. The\n",
            "        list can contain any of the other types (except list).\n",
            "        Keys to group by on the pivot table index.  If an array is passed,\n",
            "        it is being used as the same manner as column values.\n",
            "    columns : column, Grouper, array, or list of the previous\n",
            "        If an array is passed, it must be the same length as the data. The\n",
            "        list can contain any of the other types (except list).\n",
            "        Keys to group by on the pivot table column.  If an array is passed,\n",
            "        it is being used as the same manner as column values.\n",
            "    aggfunc : function, list of functions, dict, default numpy.mean\n",
            "        If list of functions passed, the resulting pivot table will have\n",
            "        hierarchical columns whose top level are the function names\n",
            "        (inferred from the function objects themselves)\n",
            "        If dict is passed, the key is column to aggregate and value\n",
            "        is function or list of functions.\n",
            "    fill_value : scalar, default None\n",
            "        Value to replace missing values with (in the resulting pivot table,\n",
            "        after aggregation).\n",
            "    margins : bool, default False\n",
            "        Add all row / columns (e.g. for subtotal / grand totals).\n",
            "    dropna : bool, default True\n",
            "        Do not include columns whose entries are all NaN. If True,\n",
            "        rows with a NaN value in any column will be omitted before\n",
            "        computing margins.\n",
            "    margins_name : str, default 'All'\n",
            "        Name of the row / column that will contain the totals\n",
            "        when margins is True.\n",
            "    observed : bool, default False\n",
            "        This only applies if any of the groupers are Categoricals.\n",
            "        If True: only show observed values for categorical groupers.\n",
            "        If False: show all values for categorical groupers.\n",
            "    \n",
            "        .. versionchanged:: 0.25.0\n",
            "    \n",
            "    sort : bool, default True\n",
            "        Specifies if the result should be sorted.\n",
            "    \n",
            "        .. versionadded:: 1.3.0\n",
            "    \n",
            "    Returns\n",
            "    -------\n",
            "    DataFrame\n",
            "        An Excel style pivot table.\n",
            "    \n",
            "    See Also\n",
            "    --------\n",
            "    DataFrame.pivot : Pivot without aggregation that can handle\n",
            "        non-numeric data.\n",
            "    DataFrame.melt: Unpivot a DataFrame from wide to long format,\n",
            "        optionally leaving identifiers set.\n",
            "    wide_to_long : Wide panel to long format. Less flexible but more\n",
            "        user-friendly than melt.\n",
            "    \n",
            "    Notes\n",
            "    -----\n",
            "    Reference :ref:`the user guide <reshaping.pivot>` for more examples.\n",
            "    \n",
            "    Examples\n",
            "    --------\n",
            "    >>> df = pd.DataFrame({\"A\": [\"foo\", \"foo\", \"foo\", \"foo\", \"foo\",\n",
            "    ...                          \"bar\", \"bar\", \"bar\", \"bar\"],\n",
            "    ...                    \"B\": [\"one\", \"one\", \"one\", \"two\", \"two\",\n",
            "    ...                          \"one\", \"one\", \"two\", \"two\"],\n",
            "    ...                    \"C\": [\"small\", \"large\", \"large\", \"small\",\n",
            "    ...                          \"small\", \"large\", \"small\", \"small\",\n",
            "    ...                          \"large\"],\n",
            "    ...                    \"D\": [1, 2, 2, 3, 3, 4, 5, 6, 7],\n",
            "    ...                    \"E\": [2, 4, 5, 5, 6, 6, 8, 9, 9]})\n",
            "    >>> df\n",
            "         A    B      C  D  E\n",
            "    0  foo  one  small  1  2\n",
            "    1  foo  one  large  2  4\n",
            "    2  foo  one  large  2  5\n",
            "    3  foo  two  small  3  5\n",
            "    4  foo  two  small  3  6\n",
            "    5  bar  one  large  4  6\n",
            "    6  bar  one  small  5  8\n",
            "    7  bar  two  small  6  9\n",
            "    8  bar  two  large  7  9\n",
            "    \n",
            "    This first example aggregates values by taking the sum.\n",
            "    \n",
            "    >>> table = pd.pivot_table(df, values='D', index=['A', 'B'],\n",
            "    ...                     columns=['C'], aggfunc=np.sum)\n",
            "    >>> table\n",
            "    C        large  small\n",
            "    A   B\n",
            "    bar one    4.0    5.0\n",
            "        two    7.0    6.0\n",
            "    foo one    4.0    1.0\n",
            "        two    NaN    6.0\n",
            "    \n",
            "    We can also fill missing values using the `fill_value` parameter.\n",
            "    \n",
            "    >>> table = pd.pivot_table(df, values='D', index=['A', 'B'],\n",
            "    ...                     columns=['C'], aggfunc=np.sum, fill_value=0)\n",
            "    >>> table\n",
            "    C        large  small\n",
            "    A   B\n",
            "    bar one      4      5\n",
            "        two      7      6\n",
            "    foo one      4      1\n",
            "        two      0      6\n",
            "    \n",
            "    The next example aggregates by taking the mean across multiple columns.\n",
            "    \n",
            "    >>> table = pd.pivot_table(df, values=['D', 'E'], index=['A', 'C'],\n",
            "    ...                     aggfunc={'D': np.mean,\n",
            "    ...                              'E': np.mean})\n",
            "    >>> table\n",
            "                    D         E\n",
            "    A   C\n",
            "    bar large  5.500000  7.500000\n",
            "        small  5.500000  8.500000\n",
            "    foo large  2.000000  4.500000\n",
            "        small  2.333333  4.333333\n",
            "    \n",
            "    We can also calculate multiple types of aggregations for any given\n",
            "    value column.\n",
            "    \n",
            "    >>> table = pd.pivot_table(df, values=['D', 'E'], index=['A', 'C'],\n",
            "    ...                     aggfunc={'D': np.mean,\n",
            "    ...                              'E': [min, max, np.mean]})\n",
            "    >>> table\n",
            "                      D   E\n",
            "                   mean max      mean  min\n",
            "    A   C\n",
            "    bar large  5.500000   9  7.500000    6\n",
            "        small  5.500000   9  8.500000    8\n",
            "    foo large  2.000000   5  4.500000    4\n",
            "        small  2.333333   6  4.333333    2\n",
            "\n"
          ]
        }
      ]
    },
    {
      "cell_type": "code",
      "source": [
        "df = titanic[['class', 'sex', 'age']]\n",
        "result = pd.pivot_table(df, index='class', columns='sex', values='age', aggfunc ='sum')\n",
        "print(result)"
      ],
      "metadata": {
        "colab": {
          "base_uri": "https://localhost:8080/"
        },
        "id": "bNmqVRDrirQH",
        "outputId": "c4150170-3dcc-4f04-a9fc-014a895b6c7e"
      },
      "execution_count": 59,
      "outputs": [
        {
          "output_type": "stream",
          "name": "stdout",
          "text": [
            "sex     female     male\n",
            "class                  \n",
            "First   2942.0  4169.42\n",
            "Second  2125.5  3043.33\n",
            "Third   2218.5  6706.42\n"
          ]
        }
      ]
    },
    {
      "cell_type": "code",
      "source": [
        "# 데이터 구조화 - 데이터의 구조를 변경하는 작업\n",
        "# stacked\n",
        "#staked : 행을 열로 변경하는 작업 - 넓게 펼쳐진 데이터를 깊게 만드는 작업\n",
        "mul_index = pd.MultiIndex.from_tuples([('cust_1', '2015'), ('cust_1', '2016'), ('cust_2', '2015'), ('cust_2', '2016')])\n",
        "\n",
        "data = pd.DataFrame(data=np.arange(8).reshape(4, 2), index=mul_index, columns=['prd_1', 'prd_2'])\n",
        "print(data)\n"
      ],
      "metadata": {
        "colab": {
          "base_uri": "https://localhost:8080/"
        },
        "id": "jlWx-tv3qA8u",
        "outputId": "9d157b91-c5b7-4f61-b284-d1c1a3d1f1cd"
      },
      "execution_count": 67,
      "outputs": [
        {
          "output_type": "stream",
          "name": "stdout",
          "text": [
            "             prd_1  prd_2\n",
            "cust_1 2015      0      1\n",
            "       2016      2      3\n",
            "cust_2 2015      4      5\n",
            "       2016      6      7\n"
          ]
        }
      ]
    },
    {
      "cell_type": "code",
      "source": [
        "stacked = data.stack()\n",
        "print(stacked)"
      ],
      "metadata": {
        "colab": {
          "base_uri": "https://localhost:8080/"
        },
        "id": "Ey74ZwSIr0S9",
        "outputId": "6ee2a10a-199f-42ec-c904-83139e92f0d3"
      },
      "execution_count": 69,
      "outputs": [
        {
          "output_type": "stream",
          "name": "stdout",
          "text": [
            "cust_1  2015  prd_1    0\n",
            "              prd_2    1\n",
            "        2016  prd_1    2\n",
            "              prd_2    3\n",
            "cust_2  2015  prd_1    4\n",
            "              prd_2    5\n",
            "        2016  prd_1    6\n",
            "              prd_2    7\n",
            "dtype: int64\n"
          ]
        }
      ]
    },
    {
      "cell_type": "code",
      "source": [
        "# unstacked\n",
        "# 첫 레벨의 인덱스가 컬럼이 됩니다.\n",
        "unstacked = stacked.unstack(level = 0)\n",
        "#print(unstacked)\n",
        "\n",
        "#다단으로 구성된 인덱스의 경우는 여러 번 unstack 가능\n",
        "print(unstacked.unstack())"
      ],
      "metadata": {
        "colab": {
          "base_uri": "https://localhost:8080/"
        },
        "id": "RffLWc4osfxs",
        "outputId": "f7ab1141-3967-40dd-f85a-84cb88ba9e44"
      },
      "execution_count": 75,
      "outputs": [
        {
          "output_type": "stream",
          "name": "stdout",
          "text": [
            "     cust_1       cust_2      \n",
            "      prd_1 prd_2  prd_1 prd_2\n",
            "2015      0     1      4     5\n",
            "2016      2     3      6     7\n"
          ]
        }
      ]
    },
    {
      "cell_type": "code",
      "source": [
        "!pip install google-colab"
      ],
      "metadata": {
        "id": "TcJB1LiFw593"
      },
      "execution_count": null,
      "outputs": []
    },
    {
      "cell_type": "code",
      "source": [
        "from google.colab import files\n",
        "from google.colab import drive\n",
        "import os"
      ],
      "metadata": {
        "id": "ZZx43xG6w7ss"
      },
      "execution_count": 86,
      "outputs": []
    },
    {
      "cell_type": "code",
      "source": [
        "# 숫자 데이터의 전처리\n",
        "# 단위 환산\n",
        "# mpg 데이터는 자동차에 대한 정보를 가지는 데이터입니다.\n",
        "# mpg 열이 연비인데 미국에서는 갤런당 마일을 사용하는데 우리나라는 리터당 킬로미터를 사용\n",
        "# 이런 경우는 단위 변환을 해주는 것이 데이터를 읽는데 편리합니다.\n",
        "# 1마일은 1.60935km 이고 1갤런은 3.78541 리터\n",
        "\n",
        "from google.colab import files\n",
        "myfile = files.upload\n",
        "from google.colab import drive\n",
        "import os\n",
        "\n",
        "# Ensure the mountpoint is a valid directory path\n",
        "mountpoint = \"/content/auto-mpg.csv\"\n",
        "if not os.path.exists(mountpoint):\n",
        "    os.makedirs(mountpoint)\n",
        "drive.mount(mountpoint)"
      ],
      "metadata": {
        "colab": {
          "base_uri": "https://localhost:8080/"
        },
        "id": "2xGoy3-Pwbp6",
        "outputId": "9f137539-82ad-4011-a5a7-f234660e3295"
      },
      "execution_count": 87,
      "outputs": [
        {
          "output_type": "stream",
          "name": "stdout",
          "text": [
            "Mounted at /content/auto-mpg.csv\n"
          ]
        }
      ]
    },
    {
      "cell_type": "code",
      "source": [
        "!ls -l /content/auto-mpg.csv"
      ],
      "metadata": {
        "colab": {
          "base_uri": "https://localhost:8080/"
        },
        "id": "yKy3gtjUxrQO",
        "outputId": "882881cc-f4e8-4fbf-95dc-0dcd33024b48"
      },
      "execution_count": 91,
      "outputs": [
        {
          "output_type": "stream",
          "name": "stdout",
          "text": [
            "total 4\n",
            "drwx------ 4 root root 4096 Feb 15 07:56 MyDrive\n"
          ]
        }
      ]
    },
    {
      "cell_type": "code",
      "source": [
        "!pwd"
      ],
      "metadata": {
        "colab": {
          "base_uri": "https://localhost:8080/"
        },
        "id": "VyLG4gJpxs5v",
        "outputId": "cdfea17d-35dd-400d-e91b-229d18912558"
      },
      "execution_count": 92,
      "outputs": [
        {
          "output_type": "stream",
          "name": "stdout",
          "text": [
            "/content\n"
          ]
        }
      ]
    },
    {
      "cell_type": "code",
      "source": [
        "!file /content/auto-mpg.csv"
      ],
      "metadata": {
        "colab": {
          "base_uri": "https://localhost:8080/"
        },
        "id": "Dz838i4oxvrN",
        "outputId": "f7f99431-f43d-417e-8b22-d8e9684753ea"
      },
      "execution_count": 93,
      "outputs": [
        {
          "output_type": "stream",
          "name": "stdout",
          "text": [
            "/content/auto-mpg.csv: directory\n"
          ]
        }
      ]
    },
    {
      "cell_type": "code",
      "source": [
        "import pandas as pd\n",
        "\n",
        "print(pd.__version__)"
      ],
      "metadata": {
        "colab": {
          "base_uri": "https://localhost:8080/"
        },
        "id": "4b2vtzYbxx5v",
        "outputId": "d40ad85a-209e-4b54-d8f6-871e71a99680"
      },
      "execution_count": 94,
      "outputs": [
        {
          "output_type": "stream",
          "name": "stdout",
          "text": [
            "1.5.3\n"
          ]
        }
      ]
    },
    {
      "cell_type": "code",
      "source": [
        "!ls -l /content/auto-mpg.csv"
      ],
      "metadata": {
        "colab": {
          "base_uri": "https://localhost:8080/"
        },
        "id": "3b1Z63xmx8Sp",
        "outputId": "d19f7efc-c8b1-43c6-93db-415b390e44e8"
      },
      "execution_count": 96,
      "outputs": [
        {
          "output_type": "stream",
          "name": "stdout",
          "text": [
            "total 4\n",
            "drwx------ 4 root root 4096 Feb 15 07:56 MyDrive\n"
          ]
        }
      ]
    },
    {
      "cell_type": "code",
      "source": [
        "!stat /content/auto-mpg.csv"
      ],
      "metadata": {
        "colab": {
          "base_uri": "https://localhost:8080/"
        },
        "id": "soxQ4Qpqx96S",
        "outputId": "adfdb460-a27e-418f-aded-85f4b83d8f95"
      },
      "execution_count": 97,
      "outputs": [
        {
          "output_type": "stream",
          "name": "stdout",
          "text": [
            "  File: /content/auto-mpg.csv\n",
            "  Size: 4096      \tBlocks: 8          IO Block: 65536  directory\n",
            "Device: 32h/50d\tInode: 1           Links: 5\n",
            "Access: (0700/drwx------)  Uid: (    0/    root)   Gid: (    0/    root)\n",
            "Access: 2024-02-15 07:56:43.000000000 +0000\n",
            "Modify: 2024-02-15 07:56:43.000000000 +0000\n",
            "Change: 2024-02-15 07:56:43.000000000 +0000\n",
            " Birth: -\n"
          ]
        }
      ]
    },
    {
      "cell_type": "code",
      "source": [
        "!pip install pandas"
      ],
      "metadata": {
        "colab": {
          "base_uri": "https://localhost:8080/"
        },
        "id": "L1rJ9MAzx_0i",
        "outputId": "ed211078-240f-42ef-bb9f-d1baa14bc42e"
      },
      "execution_count": 98,
      "outputs": [
        {
          "output_type": "stream",
          "name": "stdout",
          "text": [
            "Requirement already satisfied: pandas in /usr/local/lib/python3.10/dist-packages (1.5.3)\n",
            "Requirement already satisfied: python-dateutil>=2.8.1 in /usr/local/lib/python3.10/dist-packages (from pandas) (2.8.2)\n",
            "Requirement already satisfied: pytz>=2020.1 in /usr/local/lib/python3.10/dist-packages (from pandas) (2023.4)\n",
            "Requirement already satisfied: numpy>=1.21.0 in /usr/local/lib/python3.10/dist-packages (from pandas) (1.25.2)\n",
            "Requirement already satisfied: six>=1.5 in /usr/local/lib/python3.10/dist-packages (from python-dateutil>=2.8.1->pandas) (1.16.0)\n"
          ]
        }
      ]
    },
    {
      "cell_type": "code",
      "source": [
        "import pandas as pd"
      ],
      "metadata": {
        "id": "kA50qjsVyBQQ"
      },
      "execution_count": 99,
      "outputs": []
    },
    {
      "cell_type": "code",
      "source": [
        "!ls /content"
      ],
      "metadata": {
        "colab": {
          "base_uri": "https://localhost:8080/"
        },
        "id": "V5LRYym_yWpr",
        "outputId": "6f2eb1e0-b486-4452-f9ab-9b30679b76b2"
      },
      "execution_count": 104,
      "outputs": [
        {
          "output_type": "stream",
          "name": "stdout",
          "text": [
            " auto-mpg.csv   drive   sample_data  'stock price.xlsx'  'stock valuation.xlsx'\n"
          ]
        }
      ]
    },
    {
      "cell_type": "code",
      "source": [
        "!ls -l /content/auto-mpg.csv"
      ],
      "metadata": {
        "colab": {
          "base_uri": "https://localhost:8080/"
        },
        "id": "hTH3DLB-yb9s",
        "outputId": "8c7351e1-0af0-440d-a7ac-526bb7e2470a"
      },
      "execution_count": 105,
      "outputs": [
        {
          "output_type": "stream",
          "name": "stdout",
          "text": [
            "total 4\n",
            "drwx------ 4 root root 4096 Feb 15 07:56 MyDrive\n"
          ]
        }
      ]
    },
    {
      "cell_type": "code",
      "source": [
        "!chmod 644 /content/auto-mpg.csv"
      ],
      "metadata": {
        "colab": {
          "base_uri": "https://localhost:8080/"
        },
        "id": "EaVJgs5Sydj4",
        "outputId": "13eebcca-1afb-479d-bc54-40841167eb8a"
      },
      "execution_count": 106,
      "outputs": [
        {
          "output_type": "stream",
          "name": "stdout",
          "text": [
            "chmod: changing permissions of '/content/auto-mpg.csv': Input/output error\n"
          ]
        }
      ]
    },
    {
      "cell_type": "code",
      "source": [
        "!file /content/auto-mpg.csv"
      ],
      "metadata": {
        "colab": {
          "base_uri": "https://localhost:8080/"
        },
        "id": "PAN-hDVcye2X",
        "outputId": "bcffe344-5f72-4aac-fb71-0c33dc604067"
      },
      "execution_count": 107,
      "outputs": [
        {
          "output_type": "stream",
          "name": "stdout",
          "text": [
            "/content/auto-mpg.csv: directory\n"
          ]
        }
      ]
    }
  ]
}