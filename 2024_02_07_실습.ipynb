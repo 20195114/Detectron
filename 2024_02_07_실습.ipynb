{
  "nbformat": 4,
  "nbformat_minor": 0,
  "metadata": {
    "colab": {
      "provenance": [],
      "authorship_tag": "ABX9TyP8OzUXj2smMt6/q/4lqLgE",
      "include_colab_link": true
    },
    "kernelspec": {
      "name": "python3",
      "display_name": "Python 3"
    },
    "language_info": {
      "name": "python"
    }
  },
  "cells": [
    {
      "cell_type": "markdown",
      "metadata": {
        "id": "view-in-github",
        "colab_type": "text"
      },
      "source": [
        "<a href=\"https://colab.research.google.com/github/20195114/Detectron/blob/main/2024_02_07_%EC%8B%A4%EC%8A%B5.ipynb\" target=\"_parent\"><img src=\"https://colab.research.google.com/assets/colab-badge.svg\" alt=\"Open In Colab\"/></a>"
      ]
    },
    {
      "cell_type": "code",
      "execution_count": null,
      "metadata": {
        "colab": {
          "base_uri": "https://localhost:8080/"
        },
        "id": "MhsHfzKR9Rba",
        "outputId": "2a30e279-f4bb-4a25-898c-2adcf457366c"
      },
      "outputs": [
        {
          "output_type": "stream",
          "name": "stdout",
          "text": [
            "[False False False False  True False False]\n",
            "[10.  2.  3.  4. 32. 42.]\n"
          ]
        }
      ],
      "source": [
        "import numpy as np\n",
        "# 배열 생성\n",
        "ar = np.array([10, 2, 3, 4, np.nan, 32, 42])\n",
        "# 배열에 None 데이터가 있는지 확인\n",
        "print(np.isnan(ar)) #결측치 확인\n",
        "\n",
        "# 결측치를 제외하고 가져오기\n",
        "result = ar[np.logical_not(np.isnan(ar))]\n",
        "print(result)"
      ]
    },
    {
      "cell_type": "code",
      "source": [
        "import numpy as np\n",
        "ar = np.array([2, 5, 23, 34, 21, 42, np.nan, 25])\n",
        "print(ar)\n",
        "\n",
        "# 3의 배수이거나 4의 배수인 데이터만 추출 np.nan을 제거\n",
        "temp = ar[np.logical_not(np.isnan(ar))]\n",
        "result = temp[(temp % 3 == 0) | (temp % 4 == 0)]\n",
        "print(result)\n"
      ],
      "metadata": {
        "colab": {
          "base_uri": "https://localhost:8080/"
        },
        "id": "GXiZneopArn_",
        "outputId": "93b2e7c7-d633-487f-ddcf-46cdaf1fc409"
      },
      "execution_count": null,
      "outputs": [
        {
          "output_type": "stream",
          "name": "stdout",
          "text": [
            "[ 2.  5. 23. 34. 21. 42. nan 25.]\n",
            "[21. 42.]\n"
          ]
        }
      ]
    },
    {
      "cell_type": "code",
      "source": [
        "# 아래 데이터는 1, 2, 3, 4 중에 하나를 선택하는 범주형 데이터의 집합\n",
        "# 이상함 값이 있는지 확인\n",
        "ar = np.array([2, 1, 3, 4, 5, 1, 2, 3])\n",
        "print(np.unique(ar))\n",
        "\n"
      ],
      "metadata": {
        "colab": {
          "base_uri": "https://localhost:8080/"
        },
        "id": "OcqGLMeWEo4k",
        "outputId": "25b62e45-da6a-4ced-b598-e0458552c385"
      },
      "execution_count": null,
      "outputs": [
        {
          "output_type": "stream",
          "name": "stdout",
          "text": [
            "[1 2 3 4 5]\n"
          ]
        }
      ]
    },
    {
      "cell_type": "code",
      "source": [
        "ar = np.array([2, 1, 3, 4, np.nan])\n",
        "print(ar.sort())\n",
        "print(ar)\n",
        "# numpy 의 sort 는 리턴을 하고 ndarrat 의 sort 는 린턴하지 않습니다.\n",
        "# 내림차순 정렬은 numpy의 sort를 이용하면 됩니다.\n",
        "print(np.sort(ar)[::-1])\n",
        "#2차원 배열은 numpy 에서는 sort를 잘 사용하지 않습니다.\n",
        "# 데이터의 인덱스가 꺠져버립니다.\n",
        "matrix = np.array([[1, 3, 2, 4] , [9, 4, 1, 8]])\n",
        "matrix.sort(axis = 0)\n",
        "print(matrix)"
      ],
      "metadata": {
        "colab": {
          "base_uri": "https://localhost:8080/"
        },
        "id": "NMRXk4JDHqyQ",
        "outputId": "aeb9b523-5392-4cce-87ef-d773cd04ffcd"
      },
      "execution_count": null,
      "outputs": [
        {
          "output_type": "stream",
          "name": "stdout",
          "text": [
            "None\n",
            "[ 1.  2.  3.  4. nan]\n",
            "[nan  4.  3.  2.  1.]\n",
            "[[1 3 1 4]\n",
            " [9 4 2 8]]\n"
          ]
        }
      ]
    },
    {
      "cell_type": "code",
      "source": [
        "#hstack\n",
        "ar = np.array([[1, 2, 3, ], [4, 5, 6]])\n",
        "print(ar)\n",
        "br = np.array([[11, 22, 33], [44, 55, 66]])\n",
        "print(br)\n",
        "print(np.hstack([ar, br]))\n",
        "print(np.vstack([ar, br]))\n",
        "print(np.dstack([ar, br]))\n"
      ],
      "metadata": {
        "colab": {
          "base_uri": "https://localhost:8080/"
        },
        "id": "_vLFtM1bSBs8",
        "outputId": "ef29fe24-b67e-497d-ea06-6e9100f52b8a"
      },
      "execution_count": 20,
      "outputs": [
        {
          "output_type": "stream",
          "name": "stdout",
          "text": [
            "[[1 2 3]\n",
            " [4 5 6]]\n",
            "[[11 22 33]\n",
            " [44 55 66]]\n",
            "[[ 1  2  3 11 22 33]\n",
            " [ 4  5  6 44 55 66]]\n",
            "[[ 1  2  3]\n",
            " [ 4  5  6]\n",
            " [11 22 33]\n",
            " [44 55 66]]\n",
            "[[[ 1 11]\n",
            "  [ 2 22]\n",
            "  [ 3 33]]\n",
            "\n",
            " [[ 4 44]\n",
            "  [ 5 55]\n",
            "  [ 6 66]]]\n"
          ]
        }
      ]
    },
    {
      "cell_type": "code",
      "source": [
        "help(np.savez)"
      ],
      "metadata": {
        "colab": {
          "base_uri": "https://localhost:8080/"
        },
        "id": "zPOYGjYiUtB9",
        "outputId": "a8805173-e35d-43c1-aa24-62094432d883"
      },
      "execution_count": 21,
      "outputs": [
        {
          "output_type": "stream",
          "name": "stdout",
          "text": [
            "Help on function savez in module numpy:\n",
            "\n",
            "savez(file, *args, **kwds)\n",
            "    Save several arrays into a single file in uncompressed ``.npz`` format.\n",
            "    \n",
            "    Provide arrays as keyword arguments to store them under the\n",
            "    corresponding name in the output file: ``savez(fn, x=x, y=y)``.\n",
            "    \n",
            "    If arrays are specified as positional arguments, i.e., ``savez(fn,\n",
            "    x, y)``, their names will be `arr_0`, `arr_1`, etc.\n",
            "    \n",
            "    Parameters\n",
            "    ----------\n",
            "    file : str or file\n",
            "        Either the filename (string) or an open file (file-like object)\n",
            "        where the data will be saved. If file is a string or a Path, the\n",
            "        ``.npz`` extension will be appended to the filename if it is not\n",
            "        already there.\n",
            "    args : Arguments, optional\n",
            "        Arrays to save to the file. Please use keyword arguments (see\n",
            "        `kwds` below) to assign names to arrays.  Arrays specified as\n",
            "        args will be named \"arr_0\", \"arr_1\", and so on.\n",
            "    kwds : Keyword arguments, optional\n",
            "        Arrays to save to the file. Each array will be saved to the\n",
            "        output file with its corresponding keyword name.\n",
            "    \n",
            "    Returns\n",
            "    -------\n",
            "    None\n",
            "    \n",
            "    See Also\n",
            "    --------\n",
            "    save : Save a single array to a binary file in NumPy format.\n",
            "    savetxt : Save an array to a file as plain text.\n",
            "    savez_compressed : Save several arrays into a compressed ``.npz`` archive\n",
            "    \n",
            "    Notes\n",
            "    -----\n",
            "    The ``.npz`` file format is a zipped archive of files named after the\n",
            "    variables they contain.  The archive is not compressed and each file\n",
            "    in the archive contains one variable in ``.npy`` format. For a\n",
            "    description of the ``.npy`` format, see :py:mod:`numpy.lib.format`.\n",
            "    \n",
            "    When opening the saved ``.npz`` file with `load` a `NpzFile` object is\n",
            "    returned. This is a dictionary-like object which can be queried for\n",
            "    its list of arrays (with the ``.files`` attribute), and for the arrays\n",
            "    themselves.\n",
            "    \n",
            "    Keys passed in `kwds` are used as filenames inside the ZIP archive.\n",
            "    Therefore, keys should be valid filenames; e.g., avoid keys that begin with\n",
            "    ``/`` or contain ``.``.\n",
            "    \n",
            "    When naming variables with keyword arguments, it is not possible to name a\n",
            "    variable ``file``, as this would cause the ``file`` argument to be defined\n",
            "    twice in the call to ``savez``.\n",
            "    \n",
            "    Examples\n",
            "    --------\n",
            "    >>> from tempfile import TemporaryFile\n",
            "    >>> outfile = TemporaryFile()\n",
            "    >>> x = np.arange(10)\n",
            "    >>> y = np.sin(x)\n",
            "    \n",
            "    Using `savez` with \\*args, the arrays are saved with default names.\n",
            "    \n",
            "    >>> np.savez(outfile, x, y)\n",
            "    >>> _ = outfile.seek(0) # Only needed here to simulate closing & reopening file\n",
            "    >>> npzfile = np.load(outfile)\n",
            "    >>> npzfile.files\n",
            "    ['arr_0', 'arr_1']\n",
            "    >>> npzfile['arr_0']\n",
            "    array([0, 1, 2, 3, 4, 5, 6, 7, 8, 9])\n",
            "    \n",
            "    Using `savez` with \\**kwds, the arrays are saved with the keyword names.\n",
            "    \n",
            "    >>> outfile = TemporaryFile()\n",
            "    >>> np.savez(outfile, x=x, y=y)\n",
            "    >>> _ = outfile.seek(0)\n",
            "    >>> npzfile = np.load(outfile)\n",
            "    >>> sorted(npzfile.files)\n",
            "    ['x', 'y']\n",
            "    >>> npzfile['x']\n",
            "    array([0, 1, 2, 3, 4, 5, 6, 7, 8, 9])\n",
            "\n"
          ]
        }
      ]
    },
    {
      "cell_type": "code",
      "source": [
        "import pandas as pd\n",
        "# 시리즈를 생성\n",
        "price = pd.Series([1000, 3000, 2000, 4000])\n",
        "# 시리즈를 출력 - 자동 생성된 인덱스 와 값이 출력\n",
        "print(price)\n",
        "# 0 이라는 인덱스를 가진 데이터를 조회\n",
        "print(price[0])\n",
        "# 인덱스를 직접 설정\n",
        "price.index = [\"사탕\", \"과자\", \"음료수\", \"과일\"]\n",
        "print(price)\n",
        "# 인덱스가 사탕이라는 데이터를 조회 : 1000\n",
        "print(price[\"사탕\"])"
      ],
      "metadata": {
        "colab": {
          "base_uri": "https://localhost:8080/"
        },
        "id": "tOmCF4SydMqN",
        "outputId": "a6c0c6ae-0068-4e1b-cf67-55f3f6a7333a"
      },
      "execution_count": 27,
      "outputs": [
        {
          "output_type": "stream",
          "name": "stdout",
          "text": [
            "0    1000\n",
            "1    3000\n",
            "2    2000\n",
            "3    4000\n",
            "dtype: int64\n",
            "1000\n",
            "사탕     1000\n",
            "과자     3000\n",
            "음료수    2000\n",
            "과일     4000\n",
            "dtype: int64\n",
            "1000\n"
          ]
        }
      ]
    },
    {
      "cell_type": "code",
      "source": [
        "x = (price[\"사탕\":\"음료수\"]) # 사탕부터 음료수까지\n",
        "# x의 데이터를 변경하면 원본인 price 의 데이터도 수정\n",
        "x[\"사탕\"] = 800\n",
        "print(x)\n",
        "print(price)\n",
        "print(\"================================\")\n",
        "y = (price[[\"사탕\",\"음료수\"]]) #사탕과 음료수의 데이터를 복제해 온 것\n",
        "# y 의 데이터를 변경해도 원본인 price의 데이터를 변경되지 않는 것\n",
        "y[\"사탕\"] = 2000\n",
        "print(y)\n",
        "print(price)\n",
        "print(price[[\"사탕\",\"음료수\",\"과자\"]])"
      ],
      "metadata": {
        "colab": {
          "base_uri": "https://localhost:8080/"
        },
        "id": "g5Q6uR0ve1bS",
        "outputId": "c986f9e2-ab2b-4314-9cbb-9ceb83b81ff6"
      },
      "execution_count": 38,
      "outputs": [
        {
          "output_type": "stream",
          "name": "stdout",
          "text": [
            "사탕      800\n",
            "과자     3000\n",
            "음료수    2000\n",
            "dtype: int64\n",
            "사탕      800\n",
            "과자     3000\n",
            "음료수    2000\n",
            "과일     4000\n",
            "dtype: int64\n",
            "================================\n",
            "사탕     2000\n",
            "음료수    2000\n",
            "dtype: int64\n",
            "사탕      800\n",
            "과자     3000\n",
            "음료수    2000\n",
            "과일     4000\n",
            "dtype: int64\n",
            "사탕      800\n",
            "음료수    2000\n",
            "과자     3000\n",
            "dtype: int64\n"
          ]
        }
      ]
    },
    {
      "cell_type": "code",
      "source": [
        "s1 = pd.Series([100, 200, 300, np.nan], index = [\"사과\", \"배\", \"한라봉\", \"천혜향\"])\n",
        "print(s1)\n",
        "s2 = pd.Series([100, 200, 300, 500], index = [\"사과\", \"한라봉\", \"무화과\", \"천혜향\"])\n",
        "print(s2)\n",
        "\n",
        "#시리즈는 인덱스가 일치하는 데이터끼리 연산을 수행합니다.\n",
        "#한쪽에만 존재하거나 np.nan인 데이터가 있으면 결과가 np.nan이 됩니다.\n",
        "print(s1 + s2)\n"
      ],
      "metadata": {
        "colab": {
          "base_uri": "https://localhost:8080/"
        },
        "id": "wdFNG93XoF0B",
        "outputId": "4296ae15-3b36-46c9-af92-320d41d12199"
      },
      "execution_count": 40,
      "outputs": [
        {
          "output_type": "stream",
          "name": "stdout",
          "text": [
            "사과     100.0\n",
            "배      200.0\n",
            "한라봉    300.0\n",
            "천혜향      NaN\n",
            "dtype: float64\n",
            "사과     100\n",
            "한라봉    200\n",
            "무화과    300\n",
            "천혜향    500\n",
            "dtype: int64\n",
            "무화과      NaN\n",
            "배        NaN\n",
            "사과     200.0\n",
            "천혜향      NaN\n",
            "한라봉    500.0\n",
            "dtype: float64\n"
          ]
        }
      ]
    },
    {
      "cell_type": "code",
      "source": [
        "import pandas as pd\n",
        "\n",
        "source = {\n",
        "    \"code\":[1, 2, 3, 4],\n",
        "    \"name\":[\"카리나\", \"지젤\", \"닝닝\", \"윈터\"],\n",
        "    \"age\" : [23, 22, 34, 21]\n",
        "}\n",
        "\n",
        "df = pd.DataFrame(source)\n",
        "print(df)"
      ],
      "metadata": {
        "colab": {
          "base_uri": "https://localhost:8080/"
        },
        "id": "SwIiKseKq-fT",
        "outputId": "8e82c44e-5556-44ee-c248-c8d4fa756495"
      },
      "execution_count": 45,
      "outputs": [
        {
          "output_type": "stream",
          "name": "stdout",
          "text": [
            "   code name  age\n",
            "0     1  카리나   23\n",
            "1     2   지젤   22\n",
            "2     3   닝닝   34\n",
            "3     4   윈터   21\n"
          ]
        }
      ]
    },
    {
      "cell_type": "code",
      "source": [
        "df.info()"
      ],
      "metadata": {
        "colab": {
          "base_uri": "https://localhost:8080/"
        },
        "id": "lIyOQZ5dsHvb",
        "outputId": "c8bbb389-662e-435f-eb11-20f25665528a"
      },
      "execution_count": 48,
      "outputs": [
        {
          "output_type": "stream",
          "name": "stdout",
          "text": [
            "<class 'pandas.core.frame.DataFrame'>\n",
            "RangeIndex: 4 entries, 0 to 3\n",
            "Data columns (total 3 columns):\n",
            " #   Column  Non-Null Count  Dtype \n",
            "---  ------  --------------  ----- \n",
            " 0   code    4 non-null      int64 \n",
            " 1   name    4 non-null      object\n",
            " 2   age     4 non-null      int64 \n",
            "dtypes: int64(2), object(1)\n",
            "memory usage: 224.0+ bytes\n"
          ]
        }
      ]
    },
    {
      "cell_type": "code",
      "source": [
        "print(df.index)"
      ],
      "metadata": {
        "colab": {
          "base_uri": "https://localhost:8080/"
        },
        "id": "t23YZOT_vZfQ",
        "outputId": "94662924-1889-4174-d7af-3d815f511746"
      },
      "execution_count": 49,
      "outputs": [
        {
          "output_type": "stream",
          "name": "stdout",
          "text": [
            "RangeIndex(start=0, stop=4, step=1)\n"
          ]
        }
      ]
    },
    {
      "cell_type": "code",
      "source": [
        "print(type(df.index))"
      ],
      "metadata": {
        "colab": {
          "base_uri": "https://localhost:8080/"
        },
        "id": "rH6m7rY5vhYT",
        "outputId": "2a1af12b-d08e-4f59-9f8b-8e8befa6fd7a"
      },
      "execution_count": 52,
      "outputs": [
        {
          "output_type": "stream",
          "name": "stdout",
          "text": [
            "<class 'pandas.core.indexes.range.RangeIndex'>\n"
          ]
        }
      ]
    }
  ]
}