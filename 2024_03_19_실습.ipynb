{
  "nbformat": 4,
  "nbformat_minor": 0,
  "metadata": {
    "colab": {
      "provenance": [],
      "authorship_tag": "ABX9TyOwyIQkjotMMHzX1Lw61ArF",
      "include_colab_link": true
    },
    "kernelspec": {
      "name": "python3",
      "display_name": "Python 3"
    },
    "language_info": {
      "name": "python"
    }
  },
  "cells": [
    {
      "cell_type": "markdown",
      "metadata": {
        "id": "view-in-github",
        "colab_type": "text"
      },
      "source": [
        "<a href=\"https://colab.research.google.com/github/20195114/Detectron/blob/main/2024_03_19_%EC%8B%A4%EC%8A%B5.ipynb\" target=\"_parent\"><img src=\"https://colab.research.google.com/assets/colab-badge.svg\" alt=\"Open In Colab\"/></a>"
      ]
    },
    {
      "cell_type": "code",
      "execution_count": 1,
      "metadata": {
        "colab": {
          "base_uri": "https://localhost:8080/",
          "height": 108
        },
        "id": "OtJMNGaAB8N6",
        "outputId": "0464595f-e89c-4d70-98e2-248175498252"
      },
      "outputs": [
        {
          "output_type": "error",
          "ename": "SyntaxError",
          "evalue": "invalid syntax. Perhaps you forgot a comma? (<ipython-input-1-1fb71fa1b830>, line 9)",
          "traceback": [
            "\u001b[0;36m  File \u001b[0;32m\"<ipython-input-1-1fb71fa1b830>\"\u001b[0;36m, line \u001b[0;32m9\u001b[0m\n\u001b[0;31m    tf.keras.layer.Dense(units=2, activation='sigmoid', imput_shape = (2, ))\u001b[0m\n\u001b[0m    ^\u001b[0m\n\u001b[0;31mSyntaxError\u001b[0m\u001b[0;31m:\u001b[0m invalid syntax. Perhaps you forgot a comma?\n"
          ]
        }
      ],
      "source": [
        "import numpy as np\n",
        "import tensorflow as tf\n",
        "\n",
        "\n",
        "X = np.array([[0,0], [0,1], [1,0], [1,1]])\n",
        "y = np.array([[0], [1], [1], [0]])\n",
        "\n",
        "model = tf.keras.Sequential([\n",
        "    tf.keras.layer.Dense(units=2, activation='sigmoid', imput_shape = (2, ))\n",
        "    tf.keras.layer.Dense(units=2, activation='sigmoid')\n",
        "    ])\n",
        "\n",
        "model.compile(optimizer = tf.keras.optimizer.SGD(learning_rate = 0.1), loss= 'mse')\n",
        "\n",
        "model.summary()"
      ]
    },
    {
      "cell_type": "code",
      "source": [
        "#훈련\n",
        "#batch_size는 한 번에 연산되는 데이터의 크기(Mini Batch)\n",
        "history = model.fit(X,y, epochs=1000, batch_size = 1)"
      ],
      "metadata": {
        "id": "nPrcX933Dcou"
      },
      "execution_count": null,
      "outputs": []
    },
    {
      "cell_type": "code",
      "source": [
        "# 결과확인\n",
        "model.predict(X)\n",
        "print(result)"
      ],
      "metadata": {
        "id": "s_pQVTvIIjWI",
        "colab": {
          "base_uri": "https://localhost:8080/",
          "height": 180
        },
        "outputId": "047f2aca-2d26-4f99-89b1-e319c2526d74"
      },
      "execution_count": 5,
      "outputs": [
        {
          "output_type": "error",
          "ename": "NameError",
          "evalue": "name 'model' is not defined",
          "traceback": [
            "\u001b[0;31m---------------------------------------------------------------------------\u001b[0m",
            "\u001b[0;31mNameError\u001b[0m                                 Traceback (most recent call last)",
            "\u001b[0;32m<ipython-input-5-0ed3cbcf6e9a>\u001b[0m in \u001b[0;36m<cell line: 2>\u001b[0;34m()\u001b[0m\n\u001b[1;32m      1\u001b[0m \u001b[0;31m# 결과확인\u001b[0m\u001b[0;34m\u001b[0m\u001b[0;34m\u001b[0m\u001b[0m\n\u001b[0;32m----> 2\u001b[0;31m \u001b[0mmodel\u001b[0m\u001b[0;34m.\u001b[0m\u001b[0mpredict\u001b[0m\u001b[0;34m(\u001b[0m\u001b[0mX\u001b[0m\u001b[0;34m)\u001b[0m\u001b[0;34m\u001b[0m\u001b[0;34m\u001b[0m\u001b[0m\n\u001b[0m\u001b[1;32m      3\u001b[0m \u001b[0mprint\u001b[0m\u001b[0;34m(\u001b[0m\u001b[0mresult\u001b[0m\u001b[0;34m)\u001b[0m\u001b[0;34m\u001b[0m\u001b[0;34m\u001b[0m\u001b[0m\n",
            "\u001b[0;31mNameError\u001b[0m: name 'model' is not defined"
          ]
        }
      ]
    },
    {
      "cell_type": "code",
      "source": [
        "import tensorflow as tf\n",
        "\n",
        "X = tf.range(10)\n",
        "print(X)\n",
        "\n",
        "#dataset = tf.data.dataset.from_tensor.range(10)\n",
        "print(dir)"
      ],
      "metadata": {
        "colab": {
          "base_uri": "https://localhost:8080/"
        },
        "id": "Gz2E7QhuY4FO",
        "outputId": "8e3001cf-b174-4b7b-e7f5-a911f69cfb43"
      },
      "execution_count": 20,
      "outputs": [
        {
          "output_type": "stream",
          "name": "stdout",
          "text": [
            "tf.Tensor([0 1 2 3 4 5 6 7 8 9], shape=(10,), dtype=int32)\n",
            "<built-in function dir>\n"
          ]
        }
      ]
    },
    {
      "cell_type": "code",
      "source": [
        "# Data API\n",
        "# TF변환\n",
        "dataset = tf.data.Dataset.range(10)# 0~9 까지의 데이터를 가지고 데이터셋을 구성\n",
        "print(dataset)"
      ],
      "metadata": {
        "id": "fGSLiArFInXv",
        "colab": {
          "base_uri": "https://localhost:8080/"
        },
        "outputId": "6bc034ce-2771-4490-f13d-08e5e407e954"
      },
      "execution_count": 21,
      "outputs": [
        {
          "output_type": "stream",
          "name": "stdout",
          "text": [
            "<_RangeDataset element_spec=TensorSpec(shape=(), dtype=tf.int64, name=None)>\n"
          ]
        }
      ]
    },
    {
      "cell_type": "code",
      "source": [
        "# 대다수의 데이터 셋은 이터레이터를 구현하고 있음\n",
        "for item in dataset:\n",
        "  print(item)"
      ],
      "metadata": {
        "colab": {
          "base_uri": "https://localhost:8080/"
        },
        "id": "kayCQwAuZjtB",
        "outputId": "5e7aa422-69ae-4383-98ee-7ecd28e7c454"
      },
      "execution_count": 22,
      "outputs": [
        {
          "output_type": "stream",
          "name": "stdout",
          "text": [
            "tf.Tensor(0, shape=(), dtype=int64)\n",
            "tf.Tensor(1, shape=(), dtype=int64)\n",
            "tf.Tensor(2, shape=(), dtype=int64)\n",
            "tf.Tensor(3, shape=(), dtype=int64)\n",
            "tf.Tensor(4, shape=(), dtype=int64)\n",
            "tf.Tensor(5, shape=(), dtype=int64)\n",
            "tf.Tensor(6, shape=(), dtype=int64)\n",
            "tf.Tensor(7, shape=(), dtype=int64)\n",
            "tf.Tensor(8, shape=(), dtype=int64)\n",
            "tf.Tensor(9, shape=(), dtype=int64)\n"
          ]
        }
      ]
    },
    {
      "cell_type": "code",
      "source": [
        "# 데이터에 마지막이 batch 개수에 맞지 않는 경우 drop_remain = True를 설정하면\n",
        "# 마지막 배치는 사용하지 않음\n",
        "dataset = dataset.repeat(5).batch(5)\n",
        "for item in dataset:\n",
        "  print(item)"
      ],
      "metadata": {
        "colab": {
          "base_uri": "https://localhost:8080/"
        },
        "id": "ZB2YQ1xlZn_Z",
        "outputId": "ed8d586b-07a0-414b-9927-1abccb3671fa"
      },
      "execution_count": 18,
      "outputs": [
        {
          "output_type": "stream",
          "name": "stdout",
          "text": [
            "tf.Tensor(\n",
            "[[ 0  1  2  3  4]\n",
            " [ 5  6  7  8  9]\n",
            " [10 11 12 13 14]\n",
            " [15 16 17 18 19]\n",
            " [20 21 22 23 24]], shape=(5, 5), dtype=int64)\n",
            "tf.Tensor(\n",
            "[[25 26 27 28 29]\n",
            " [30 31 32 33 34]\n",
            " [35 36 37 38 39]\n",
            " [40 41 42 43 44]\n",
            " [45 46 47 48 49]], shape=(5, 5), dtype=int64)\n",
            "tf.Tensor(\n",
            "[[ 0  1  2  3  4]\n",
            " [ 5  6  7  8  9]\n",
            " [10 11 12 13 14]\n",
            " [15 16 17 18 19]\n",
            " [20 21 22 23 24]], shape=(5, 5), dtype=int64)\n",
            "tf.Tensor(\n",
            "[[25 26 27 28 29]\n",
            " [30 31 32 33 34]\n",
            " [35 36 37 38 39]\n",
            " [40 41 42 43 44]\n",
            " [45 46 47 48 49]], shape=(5, 5), dtype=int64)\n",
            "tf.Tensor(\n",
            "[[ 0  1  2  3  4]\n",
            " [ 5  6  7  8  9]\n",
            " [10 11 12 13 14]\n",
            " [15 16 17 18 19]\n",
            " [20 21 22 23 24]], shape=(5, 5), dtype=int64)\n",
            "tf.Tensor(\n",
            "[[25 26 27 28 29]\n",
            " [30 31 32 33 34]\n",
            " [35 36 37 38 39]\n",
            " [40 41 42 43 44]\n",
            " [45 46 47 48 49]], shape=(5, 5), dtype=int64)\n",
            "tf.Tensor(\n",
            "[[ 0  1  2  3  4]\n",
            " [ 5  6  7  8  9]\n",
            " [10 11 12 13 14]\n",
            " [15 16 17 18 19]\n",
            " [20 21 22 23 24]], shape=(5, 5), dtype=int64)\n",
            "tf.Tensor(\n",
            "[[25 26 27 28 29]\n",
            " [30 31 32 33 34]\n",
            " [35 36 37 38 39]\n",
            " [40 41 42 43 44]\n",
            " [45 46 47 48 49]], shape=(5, 5), dtype=int64)\n",
            "tf.Tensor(\n",
            "[[ 0  1  2  3  4]\n",
            " [ 5  6  7  8  9]\n",
            " [10 11 12 13 14]\n",
            " [15 16 17 18 19]\n",
            " [20 21 22 23 24]], shape=(5, 5), dtype=int64)\n",
            "tf.Tensor(\n",
            "[[25 26 27 28 29]\n",
            " [30 31 32 33 34]\n",
            " [35 36 37 38 39]\n",
            " [40 41 42 43 44]\n",
            " [45 46 47 48 49]], shape=(5, 5), dtype=int64)\n",
            "tf.Tensor(\n",
            "[[ 0  1  2  3  4]\n",
            " [ 5  6  7  8  9]\n",
            " [10 11 12 13 14]\n",
            " [15 16 17 18 19]\n",
            " [20 21 22 23 24]], shape=(5, 5), dtype=int64)\n",
            "tf.Tensor(\n",
            "[[25 26 27 28 29]\n",
            " [30 31 32 33 34]\n",
            " [35 36 37 38 39]\n",
            " [40 41 42 43 44]\n",
            " [45 46 47 48 49]], shape=(5, 5), dtype=int64)\n",
            "tf.Tensor(\n",
            "[[ 0  1  2  3  4]\n",
            " [ 5  6  7  8  9]\n",
            " [10 11 12 13 14]\n",
            " [15 16 17 18 19]\n",
            " [20 21 22 23 24]], shape=(5, 5), dtype=int64)\n",
            "tf.Tensor(\n",
            "[[25 26 27 28 29]\n",
            " [30 31 32 33 34]\n",
            " [35 36 37 38 39]\n",
            " [40 41 42 43 44]\n",
            " [45 46 47 48 49]], shape=(5, 5), dtype=int64)\n",
            "tf.Tensor(\n",
            "[[ 0  1  2  3  4]\n",
            " [ 5  6  7  8  9]\n",
            " [10 11 12 13 14]\n",
            " [15 16 17 18 19]\n",
            " [20 21 22 23 24]], shape=(5, 5), dtype=int64)\n",
            "tf.Tensor(\n",
            "[[25 26 27 28 29]\n",
            " [30 31 32 33 34]\n",
            " [35 36 37 38 39]\n",
            " [40 41 42 43 44]\n",
            " [45 46 47 48 49]], shape=(5, 5), dtype=int64)\n",
            "tf.Tensor(\n",
            "[[ 0  1  2  3  4]\n",
            " [ 5  6  7  8  9]\n",
            " [10 11 12 13 14]\n",
            " [15 16 17 18 19]\n",
            " [20 21 22 23 24]], shape=(5, 5), dtype=int64)\n",
            "tf.Tensor(\n",
            "[[25 26 27 28 29]\n",
            " [30 31 32 33 34]\n",
            " [35 36 37 38 39]\n",
            " [40 41 42 43 44]\n",
            " [45 46 47 48 49]], shape=(5, 5), dtype=int64)\n",
            "tf.Tensor(\n",
            "[[ 0  1  2  3  4]\n",
            " [ 5  6  7  8  9]\n",
            " [10 11 12 13 14]\n",
            " [15 16 17 18 19]\n",
            " [20 21 22 23 24]], shape=(5, 5), dtype=int64)\n",
            "tf.Tensor(\n",
            "[[25 26 27 28 29]\n",
            " [30 31 32 33 34]\n",
            " [35 36 37 38 39]\n",
            " [40 41 42 43 44]\n",
            " [45 46 47 48 49]], shape=(5, 5), dtype=int64)\n",
            "tf.Tensor(\n",
            "[[ 0  1  2  3  4]\n",
            " [ 5  6  7  8  9]\n",
            " [10 11 12 13 14]\n",
            " [15 16 17 18 19]\n",
            " [20 21 22 23 24]], shape=(5, 5), dtype=int64)\n",
            "tf.Tensor(\n",
            "[[25 26 27 28 29]\n",
            " [30 31 32 33 34]\n",
            " [35 36 37 38 39]\n",
            " [40 41 42 43 44]\n",
            " [45 46 47 48 49]], shape=(5, 5), dtype=int64)\n",
            "tf.Tensor(\n",
            "[[ 0  1  2  3  4]\n",
            " [ 5  6  7  8  9]\n",
            " [10 11 12 13 14]\n",
            " [15 16 17 18 19]\n",
            " [20 21 22 23 24]], shape=(5, 5), dtype=int64)\n",
            "tf.Tensor(\n",
            "[[25 26 27 28 29]\n",
            " [30 31 32 33 34]\n",
            " [35 36 37 38 39]\n",
            " [40 41 42 43 44]\n",
            " [45 46 47 48 49]], shape=(5, 5), dtype=int64)\n",
            "tf.Tensor(\n",
            "[[ 0  1  2  3  4]\n",
            " [ 5  6  7  8  9]\n",
            " [10 11 12 13 14]\n",
            " [15 16 17 18 19]\n",
            " [20 21 22 23 24]], shape=(5, 5), dtype=int64)\n",
            "tf.Tensor(\n",
            "[[25 26 27 28 29]\n",
            " [30 31 32 33 34]\n",
            " [35 36 37 38 39]\n",
            " [40 41 42 43 44]\n",
            " [45 46 47 48 49]], shape=(5, 5), dtype=int64)\n",
            "tf.Tensor(\n",
            "[[ 0  1  2  3  4]\n",
            " [ 5  6  7  8  9]\n",
            " [10 11 12 13 14]\n",
            " [15 16 17 18 19]\n",
            " [20 21 22 23 24]], shape=(5, 5), dtype=int64)\n",
            "tf.Tensor(\n",
            "[[25 26 27 28 29]\n",
            " [30 31 32 33 34]\n",
            " [35 36 37 38 39]\n",
            " [40 41 42 43 44]\n",
            " [45 46 47 48 49]], shape=(5, 5), dtype=int64)\n",
            "tf.Tensor(\n",
            "[[ 0  1  2  3  4]\n",
            " [ 5  6  7  8  9]\n",
            " [10 11 12 13 14]\n",
            " [15 16 17 18 19]\n",
            " [20 21 22 23 24]], shape=(5, 5), dtype=int64)\n",
            "tf.Tensor(\n",
            "[[25 26 27 28 29]\n",
            " [30 31 32 33 34]\n",
            " [35 36 37 38 39]\n",
            " [40 41 42 43 44]\n",
            " [45 46 47 48 49]], shape=(5, 5), dtype=int64)\n",
            "tf.Tensor(\n",
            "[[ 0  1  2  3  4]\n",
            " [ 5  6  7  8  9]\n",
            " [10 11 12 13 14]\n",
            " [15 16 17 18 19]\n",
            " [20 21 22 23 24]], shape=(5, 5), dtype=int64)\n",
            "tf.Tensor(\n",
            "[[25 26 27 28 29]\n",
            " [30 31 32 33 34]\n",
            " [35 36 37 38 39]\n",
            " [40 41 42 43 44]\n",
            " [45 46 47 48 49]], shape=(5, 5), dtype=int64)\n",
            "tf.Tensor(\n",
            "[[ 0  1  2  3  4]\n",
            " [ 5  6  7  8  9]\n",
            " [10 11 12 13 14]\n",
            " [15 16 17 18 19]\n",
            " [20 21 22 23 24]], shape=(5, 5), dtype=int64)\n",
            "tf.Tensor(\n",
            "[[25 26 27 28 29]\n",
            " [30 31 32 33 34]\n",
            " [35 36 37 38 39]\n",
            " [40 41 42 43 44]\n",
            " [45 46 47 48 49]], shape=(5, 5), dtype=int64)\n",
            "tf.Tensor(\n",
            "[[ 0  1  2  3  4]\n",
            " [ 5  6  7  8  9]\n",
            " [10 11 12 13 14]\n",
            " [15 16 17 18 19]\n",
            " [20 21 22 23 24]], shape=(5, 5), dtype=int64)\n",
            "tf.Tensor(\n",
            "[[25 26 27 28 29]\n",
            " [30 31 32 33 34]\n",
            " [35 36 37 38 39]\n",
            " [40 41 42 43 44]\n",
            " [45 46 47 48 49]], shape=(5, 5), dtype=int64)\n",
            "tf.Tensor(\n",
            "[[ 0  1  2  3  4]\n",
            " [ 5  6  7  8  9]\n",
            " [10 11 12 13 14]\n",
            " [15 16 17 18 19]\n",
            " [20 21 22 23 24]], shape=(5, 5), dtype=int64)\n",
            "tf.Tensor(\n",
            "[[25 26 27 28 29]\n",
            " [30 31 32 33 34]\n",
            " [35 36 37 38 39]\n",
            " [40 41 42 43 44]\n",
            " [45 46 47 48 49]], shape=(5, 5), dtype=int64)\n",
            "tf.Tensor(\n",
            "[[ 0  1  2  3  4]\n",
            " [ 5  6  7  8  9]\n",
            " [10 11 12 13 14]\n",
            " [15 16 17 18 19]\n",
            " [20 21 22 23 24]], shape=(5, 5), dtype=int64)\n",
            "tf.Tensor(\n",
            "[[25 26 27 28 29]\n",
            " [30 31 32 33 34]\n",
            " [35 36 37 38 39]\n",
            " [40 41 42 43 44]\n",
            " [45 46 47 48 49]], shape=(5, 5), dtype=int64)\n",
            "tf.Tensor(\n",
            "[[ 0  1  2  3  4]\n",
            " [ 5  6  7  8  9]\n",
            " [10 11 12 13 14]\n",
            " [15 16 17 18 19]\n",
            " [20 21 22 23 24]], shape=(5, 5), dtype=int64)\n",
            "tf.Tensor(\n",
            "[[25 26 27 28 29]\n",
            " [30 31 32 33 34]\n",
            " [35 36 37 38 39]\n",
            " [40 41 42 43 44]\n",
            " [45 46 47 48 49]], shape=(5, 5), dtype=int64)\n",
            "tf.Tensor(\n",
            "[[ 0  1  2  3  4]\n",
            " [ 5  6  7  8  9]\n",
            " [10 11 12 13 14]\n",
            " [15 16 17 18 19]\n",
            " [20 21 22 23 24]], shape=(5, 5), dtype=int64)\n",
            "tf.Tensor(\n",
            "[[25 26 27 28 29]\n",
            " [30 31 32 33 34]\n",
            " [35 36 37 38 39]\n",
            " [40 41 42 43 44]\n",
            " [45 46 47 48 49]], shape=(5, 5), dtype=int64)\n",
            "tf.Tensor(\n",
            "[[ 0  1  2  3  4]\n",
            " [ 5  6  7  8  9]\n",
            " [10 11 12 13 14]\n",
            " [15 16 17 18 19]\n",
            " [20 21 22 23 24]], shape=(5, 5), dtype=int64)\n",
            "tf.Tensor(\n",
            "[[25 26 27 28 29]\n",
            " [30 31 32 33 34]\n",
            " [35 36 37 38 39]\n",
            " [40 41 42 43 44]\n",
            " [45 46 47 48 49]], shape=(5, 5), dtype=int64)\n",
            "tf.Tensor(\n",
            "[[ 0  1  2  3  4]\n",
            " [ 5  6  7  8  9]\n",
            " [10 11 12 13 14]\n",
            " [15 16 17 18 19]\n",
            " [20 21 22 23 24]], shape=(5, 5), dtype=int64)\n",
            "tf.Tensor(\n",
            "[[25 26 27 28 29]\n",
            " [30 31 32 33 34]\n",
            " [35 36 37 38 39]\n",
            " [40 41 42 43 44]\n",
            " [45 46 47 48 49]], shape=(5, 5), dtype=int64)\n",
            "tf.Tensor(\n",
            "[[ 0  1  2  3  4]\n",
            " [ 5  6  7  8  9]\n",
            " [10 11 12 13 14]\n",
            " [15 16 17 18 19]\n",
            " [20 21 22 23 24]], shape=(5, 5), dtype=int64)\n",
            "tf.Tensor(\n",
            "[[25 26 27 28 29]\n",
            " [30 31 32 33 34]\n",
            " [35 36 37 38 39]\n",
            " [40 41 42 43 44]\n",
            " [45 46 47 48 49]], shape=(5, 5), dtype=int64)\n"
          ]
        }
      ]
    },
    {
      "source": [
        "!pip install tensorflow\n",
        "import tensorflow as tf\n",
        "\n",
        "# Create a dataset with 50 elements.\n",
        "dataset = tf.data.Dataset.range(50)\n",
        "\n",
        "# Repeat the dataset 5 times.\n",
        "dataset = dataset.repeat(5)\n",
        "\n",
        "# Batch the dataset into batches of 5 elements.\n",
        "dataset = dataset.batch(5, drop_remainder=True)\n",
        "\n",
        "# Print each element in the dataset.\n",
        "for item in dataset:\n",
        "  print(item)"
      ],
      "cell_type": "code",
      "metadata": {
        "colab": {
          "base_uri": "https://localhost:8080/"
        },
        "id": "FAj74eHRbXID",
        "outputId": "f4e08ea3-86ac-47e1-fd14-91614cac990a"
      },
      "execution_count": 17,
      "outputs": [
        {
          "output_type": "stream",
          "name": "stdout",
          "text": [
            "Requirement already satisfied: tensorflow in /usr/local/lib/python3.10/dist-packages (2.15.0)\n",
            "Requirement already satisfied: absl-py>=1.0.0 in /usr/local/lib/python3.10/dist-packages (from tensorflow) (1.4.0)\n",
            "Requirement already satisfied: astunparse>=1.6.0 in /usr/local/lib/python3.10/dist-packages (from tensorflow) (1.6.3)\n",
            "Requirement already satisfied: flatbuffers>=23.5.26 in /usr/local/lib/python3.10/dist-packages (from tensorflow) (24.3.7)\n",
            "Requirement already satisfied: gast!=0.5.0,!=0.5.1,!=0.5.2,>=0.2.1 in /usr/local/lib/python3.10/dist-packages (from tensorflow) (0.5.4)\n",
            "Requirement already satisfied: google-pasta>=0.1.1 in /usr/local/lib/python3.10/dist-packages (from tensorflow) (0.2.0)\n",
            "Requirement already satisfied: h5py>=2.9.0 in /usr/local/lib/python3.10/dist-packages (from tensorflow) (3.9.0)\n",
            "Requirement already satisfied: libclang>=13.0.0 in /usr/local/lib/python3.10/dist-packages (from tensorflow) (16.0.6)\n",
            "Requirement already satisfied: ml-dtypes~=0.2.0 in /usr/local/lib/python3.10/dist-packages (from tensorflow) (0.2.0)\n",
            "Requirement already satisfied: numpy<2.0.0,>=1.23.5 in /usr/local/lib/python3.10/dist-packages (from tensorflow) (1.25.2)\n",
            "Requirement already satisfied: opt-einsum>=2.3.2 in /usr/local/lib/python3.10/dist-packages (from tensorflow) (3.3.0)\n",
            "Requirement already satisfied: packaging in /usr/local/lib/python3.10/dist-packages (from tensorflow) (24.0)\n",
            "Requirement already satisfied: protobuf!=4.21.0,!=4.21.1,!=4.21.2,!=4.21.3,!=4.21.4,!=4.21.5,<5.0.0dev,>=3.20.3 in /usr/local/lib/python3.10/dist-packages (from tensorflow) (3.20.3)\n",
            "Requirement already satisfied: setuptools in /usr/local/lib/python3.10/dist-packages (from tensorflow) (67.7.2)\n",
            "Requirement already satisfied: six>=1.12.0 in /usr/local/lib/python3.10/dist-packages (from tensorflow) (1.16.0)\n",
            "Requirement already satisfied: termcolor>=1.1.0 in /usr/local/lib/python3.10/dist-packages (from tensorflow) (2.4.0)\n",
            "Requirement already satisfied: typing-extensions>=3.6.6 in /usr/local/lib/python3.10/dist-packages (from tensorflow) (4.10.0)\n",
            "Requirement already satisfied: wrapt<1.15,>=1.11.0 in /usr/local/lib/python3.10/dist-packages (from tensorflow) (1.14.1)\n",
            "Requirement already satisfied: tensorflow-io-gcs-filesystem>=0.23.1 in /usr/local/lib/python3.10/dist-packages (from tensorflow) (0.36.0)\n",
            "Requirement already satisfied: grpcio<2.0,>=1.24.3 in /usr/local/lib/python3.10/dist-packages (from tensorflow) (1.62.1)\n",
            "Requirement already satisfied: tensorboard<2.16,>=2.15 in /usr/local/lib/python3.10/dist-packages (from tensorflow) (2.15.2)\n",
            "Requirement already satisfied: tensorflow-estimator<2.16,>=2.15.0 in /usr/local/lib/python3.10/dist-packages (from tensorflow) (2.15.0)\n",
            "Requirement already satisfied: keras<2.16,>=2.15.0 in /usr/local/lib/python3.10/dist-packages (from tensorflow) (2.15.0)\n",
            "Requirement already satisfied: wheel<1.0,>=0.23.0 in /usr/local/lib/python3.10/dist-packages (from astunparse>=1.6.0->tensorflow) (0.43.0)\n",
            "Requirement already satisfied: google-auth<3,>=1.6.3 in /usr/local/lib/python3.10/dist-packages (from tensorboard<2.16,>=2.15->tensorflow) (2.27.0)\n",
            "Requirement already satisfied: google-auth-oauthlib<2,>=0.5 in /usr/local/lib/python3.10/dist-packages (from tensorboard<2.16,>=2.15->tensorflow) (1.2.0)\n",
            "Requirement already satisfied: markdown>=2.6.8 in /usr/local/lib/python3.10/dist-packages (from tensorboard<2.16,>=2.15->tensorflow) (3.6)\n",
            "Requirement already satisfied: requests<3,>=2.21.0 in /usr/local/lib/python3.10/dist-packages (from tensorboard<2.16,>=2.15->tensorflow) (2.31.0)\n",
            "Requirement already satisfied: tensorboard-data-server<0.8.0,>=0.7.0 in /usr/local/lib/python3.10/dist-packages (from tensorboard<2.16,>=2.15->tensorflow) (0.7.2)\n",
            "Requirement already satisfied: werkzeug>=1.0.1 in /usr/local/lib/python3.10/dist-packages (from tensorboard<2.16,>=2.15->tensorflow) (3.0.1)\n",
            "Requirement already satisfied: cachetools<6.0,>=2.0.0 in /usr/local/lib/python3.10/dist-packages (from google-auth<3,>=1.6.3->tensorboard<2.16,>=2.15->tensorflow) (5.3.3)\n",
            "Requirement already satisfied: pyasn1-modules>=0.2.1 in /usr/local/lib/python3.10/dist-packages (from google-auth<3,>=1.6.3->tensorboard<2.16,>=2.15->tensorflow) (0.3.0)\n",
            "Requirement already satisfied: rsa<5,>=3.1.4 in /usr/local/lib/python3.10/dist-packages (from google-auth<3,>=1.6.3->tensorboard<2.16,>=2.15->tensorflow) (4.9)\n",
            "Requirement already satisfied: requests-oauthlib>=0.7.0 in /usr/local/lib/python3.10/dist-packages (from google-auth-oauthlib<2,>=0.5->tensorboard<2.16,>=2.15->tensorflow) (1.4.0)\n",
            "Requirement already satisfied: charset-normalizer<4,>=2 in /usr/local/lib/python3.10/dist-packages (from requests<3,>=2.21.0->tensorboard<2.16,>=2.15->tensorflow) (3.3.2)\n",
            "Requirement already satisfied: idna<4,>=2.5 in /usr/local/lib/python3.10/dist-packages (from requests<3,>=2.21.0->tensorboard<2.16,>=2.15->tensorflow) (3.6)\n",
            "Requirement already satisfied: urllib3<3,>=1.21.1 in /usr/local/lib/python3.10/dist-packages (from requests<3,>=2.21.0->tensorboard<2.16,>=2.15->tensorflow) (2.0.7)\n",
            "Requirement already satisfied: certifi>=2017.4.17 in /usr/local/lib/python3.10/dist-packages (from requests<3,>=2.21.0->tensorboard<2.16,>=2.15->tensorflow) (2024.2.2)\n",
            "Requirement already satisfied: MarkupSafe>=2.1.1 in /usr/local/lib/python3.10/dist-packages (from werkzeug>=1.0.1->tensorboard<2.16,>=2.15->tensorflow) (2.1.5)\n",
            "Requirement already satisfied: pyasn1<0.6.0,>=0.4.6 in /usr/local/lib/python3.10/dist-packages (from pyasn1-modules>=0.2.1->google-auth<3,>=1.6.3->tensorboard<2.16,>=2.15->tensorflow) (0.5.1)\n",
            "Requirement already satisfied: oauthlib>=3.0.0 in /usr/local/lib/python3.10/dist-packages (from requests-oauthlib>=0.7.0->google-auth-oauthlib<2,>=0.5->tensorboard<2.16,>=2.15->tensorflow) (3.2.2)\n",
            "tf.Tensor([0 1 2 3 4], shape=(5,), dtype=int64)\n",
            "tf.Tensor([5 6 7 8 9], shape=(5,), dtype=int64)\n",
            "tf.Tensor([10 11 12 13 14], shape=(5,), dtype=int64)\n",
            "tf.Tensor([15 16 17 18 19], shape=(5,), dtype=int64)\n",
            "tf.Tensor([20 21 22 23 24], shape=(5,), dtype=int64)\n",
            "tf.Tensor([25 26 27 28 29], shape=(5,), dtype=int64)\n",
            "tf.Tensor([30 31 32 33 34], shape=(5,), dtype=int64)\n",
            "tf.Tensor([35 36 37 38 39], shape=(5,), dtype=int64)\n",
            "tf.Tensor([40 41 42 43 44], shape=(5,), dtype=int64)\n",
            "tf.Tensor([45 46 47 48 49], shape=(5,), dtype=int64)\n",
            "tf.Tensor([0 1 2 3 4], shape=(5,), dtype=int64)\n",
            "tf.Tensor([5 6 7 8 9], shape=(5,), dtype=int64)\n",
            "tf.Tensor([10 11 12 13 14], shape=(5,), dtype=int64)\n",
            "tf.Tensor([15 16 17 18 19], shape=(5,), dtype=int64)\n",
            "tf.Tensor([20 21 22 23 24], shape=(5,), dtype=int64)\n",
            "tf.Tensor([25 26 27 28 29], shape=(5,), dtype=int64)\n",
            "tf.Tensor([30 31 32 33 34], shape=(5,), dtype=int64)\n",
            "tf.Tensor([35 36 37 38 39], shape=(5,), dtype=int64)\n",
            "tf.Tensor([40 41 42 43 44], shape=(5,), dtype=int64)\n",
            "tf.Tensor([45 46 47 48 49], shape=(5,), dtype=int64)\n",
            "tf.Tensor([0 1 2 3 4], shape=(5,), dtype=int64)\n",
            "tf.Tensor([5 6 7 8 9], shape=(5,), dtype=int64)\n",
            "tf.Tensor([10 11 12 13 14], shape=(5,), dtype=int64)\n",
            "tf.Tensor([15 16 17 18 19], shape=(5,), dtype=int64)\n",
            "tf.Tensor([20 21 22 23 24], shape=(5,), dtype=int64)\n",
            "tf.Tensor([25 26 27 28 29], shape=(5,), dtype=int64)\n",
            "tf.Tensor([30 31 32 33 34], shape=(5,), dtype=int64)\n",
            "tf.Tensor([35 36 37 38 39], shape=(5,), dtype=int64)\n",
            "tf.Tensor([40 41 42 43 44], shape=(5,), dtype=int64)\n",
            "tf.Tensor([45 46 47 48 49], shape=(5,), dtype=int64)\n",
            "tf.Tensor([0 1 2 3 4], shape=(5,), dtype=int64)\n",
            "tf.Tensor([5 6 7 8 9], shape=(5,), dtype=int64)\n",
            "tf.Tensor([10 11 12 13 14], shape=(5,), dtype=int64)\n",
            "tf.Tensor([15 16 17 18 19], shape=(5,), dtype=int64)\n",
            "tf.Tensor([20 21 22 23 24], shape=(5,), dtype=int64)\n",
            "tf.Tensor([25 26 27 28 29], shape=(5,), dtype=int64)\n",
            "tf.Tensor([30 31 32 33 34], shape=(5,), dtype=int64)\n",
            "tf.Tensor([35 36 37 38 39], shape=(5,), dtype=int64)\n",
            "tf.Tensor([40 41 42 43 44], shape=(5,), dtype=int64)\n",
            "tf.Tensor([45 46 47 48 49], shape=(5,), dtype=int64)\n",
            "tf.Tensor([0 1 2 3 4], shape=(5,), dtype=int64)\n",
            "tf.Tensor([5 6 7 8 9], shape=(5,), dtype=int64)\n",
            "tf.Tensor([10 11 12 13 14], shape=(5,), dtype=int64)\n",
            "tf.Tensor([15 16 17 18 19], shape=(5,), dtype=int64)\n",
            "tf.Tensor([20 21 22 23 24], shape=(5,), dtype=int64)\n",
            "tf.Tensor([25 26 27 28 29], shape=(5,), dtype=int64)\n",
            "tf.Tensor([30 31 32 33 34], shape=(5,), dtype=int64)\n",
            "tf.Tensor([35 36 37 38 39], shape=(5,), dtype=int64)\n",
            "tf.Tensor([40 41 42 43 44], shape=(5,), dtype=int64)\n",
            "tf.Tensor([45 46 47 48 49], shape=(5,), dtype=int64)\n"
          ]
        }
      ]
    },
    {
      "cell_type": "code",
      "source": [
        "# 데이터 변환\n",
        "dataset1 = dataset.map(lambda x : x*2)\n",
        "for item in dataset1:\n",
        "  print(item)"
      ],
      "metadata": {
        "colab": {
          "base_uri": "https://localhost:8080/"
        },
        "id": "_rB4m7rGbrpo",
        "outputId": "180f592f-3004-4281-9821-5be44bac7460"
      },
      "execution_count": 25,
      "outputs": [
        {
          "output_type": "stream",
          "name": "stdout",
          "text": [
            "tf.Tensor(0, shape=(), dtype=int64)\n",
            "tf.Tensor(2, shape=(), dtype=int64)\n",
            "tf.Tensor(4, shape=(), dtype=int64)\n",
            "tf.Tensor(6, shape=(), dtype=int64)\n",
            "tf.Tensor(8, shape=(), dtype=int64)\n",
            "tf.Tensor(10, shape=(), dtype=int64)\n",
            "tf.Tensor(12, shape=(), dtype=int64)\n",
            "tf.Tensor(14, shape=(), dtype=int64)\n",
            "tf.Tensor(16, shape=(), dtype=int64)\n",
            "tf.Tensor(18, shape=(), dtype=int64)\n"
          ]
        }
      ]
    },
    {
      "cell_type": "code",
      "source": [
        "# 원하는 데이터만 추출\n",
        "dataset = tf.data.Dataset.range(10)\n",
        "dataset = dataset.filter(lambda x : x % 2 == 1)\n",
        "for item in dataset:\n",
        "  print(item)"
      ],
      "metadata": {
        "colab": {
          "base_uri": "https://localhost:8080/"
        },
        "id": "1rz3XgsTeeaR",
        "outputId": "4c59e352-9e69-49b0-d3c6-4edd726acd5c"
      },
      "execution_count": 28,
      "outputs": [
        {
          "output_type": "stream",
          "name": "stdout",
          "text": [
            "tf.Tensor(1, shape=(), dtype=int64)\n",
            "tf.Tensor(3, shape=(), dtype=int64)\n",
            "tf.Tensor(5, shape=(), dtype=int64)\n",
            "tf.Tensor(7, shape=(), dtype=int64)\n",
            "tf.Tensor(9, shape=(), dtype=int64)\n"
          ]
        }
      ]
    },
    {
      "cell_type": "code",
      "source": [
        "dataset = tf.data.Dataset.range(10)\n",
        "dataset = dataset.take(3)\n",
        "for item in dataset:\n",
        "  print(item)"
      ],
      "metadata": {
        "colab": {
          "base_uri": "https://localhost:8080/"
        },
        "id": "bWHByC8SfeQi",
        "outputId": "cb01206a-22a6-4dbb-b82f-cf3b043d510e"
      },
      "execution_count": 29,
      "outputs": [
        {
          "output_type": "stream",
          "name": "stdout",
          "text": [
            "tf.Tensor(0, shape=(), dtype=int64)\n",
            "tf.Tensor(1, shape=(), dtype=int64)\n",
            "tf.Tensor(2, shape=(), dtype=int64)\n"
          ]
        }
      ]
    },
    {
      "cell_type": "code",
      "source": [
        "# 데이터를 shuffling\n",
        "# 경사하강법은 훈련 세트에 있는 데이터들이 독립적이고 동일한 분포를 가졌을 떄\n",
        "# 최고의 성능을 발휘\n",
        "# 셔플링을 할 때 주의할 점은 랜덤 시드를 부여해서 shuffling 되는 순서를 동일하게\n",
        "# 만들어야 합니다.\n",
        "dataset = tf.data.Dataset.range(10).repeat(3)\n",
        "dataset = dataset.shuffle(buffer_size= 3, seed = 42).batch(7)\n",
        "for item in dataset:\n",
        "  print(item)"
      ],
      "metadata": {
        "colab": {
          "base_uri": "https://localhost:8080/"
        },
        "id": "mWejdmRBflDC",
        "outputId": "3b242b20-828e-4a56-c417-6bce97723225"
      },
      "execution_count": 30,
      "outputs": [
        {
          "output_type": "stream",
          "name": "stdout",
          "text": [
            "tf.Tensor([0 3 4 2 1 5 8], shape=(7,), dtype=int64)\n",
            "tf.Tensor([6 9 7 2 3 1 4], shape=(7,), dtype=int64)\n",
            "tf.Tensor([6 0 7 9 0 1 2], shape=(7,), dtype=int64)\n",
            "tf.Tensor([8 4 5 5 3 8 9], shape=(7,), dtype=int64)\n",
            "tf.Tensor([7 6], shape=(2,), dtype=int64)\n"
          ]
        }
      ]
    },
    {
      "cell_type": "code",
      "source": [
        "# mnist 데이터 가져오기\n",
        "import tensorflow_datasets as tfds\n",
        "\n",
        "datasets = tfds.load(\"mnist\")\n",
        "#dict 형태로 데이터를 가져옵니다.\n",
        "#print(type(datasets))\n",
        "# 모든 키 확인\n",
        "#print(datasets.keys())\n",
        "print(type(datasets['train']))"
      ],
      "metadata": {
        "colab": {
          "base_uri": "https://localhost:8080/"
        },
        "id": "oLqqC9T6gzVd",
        "outputId": "49e302cd-ba90-4fb6-afa1-47889a98f632"
      },
      "execution_count": 35,
      "outputs": [
        {
          "output_type": "stream",
          "name": "stdout",
          "text": [
            "<class 'tensorflow.python.data.ops.prefetch_op._PrefetchDataset'>\n"
          ]
        }
      ]
    },
    {
      "cell_type": "code",
      "source": [
        "for item in datasets['train']:\n",
        "  print(item['label'])\n",
        "  plt.imshow(item['image'])\n",
        "  break"
      ],
      "metadata": {
        "colab": {
          "base_uri": "https://localhost:8080/",
          "height": 448
        },
        "id": "iMtgi_c4iaZc",
        "outputId": "3ae27324-119e-421d-c0a6-62e32e5aeb2e"
      },
      "execution_count": 41,
      "outputs": [
        {
          "output_type": "stream",
          "name": "stdout",
          "text": [
            "tf.Tensor(4, shape=(), dtype=int64)\n"
          ]
        },
        {
          "output_type": "display_data",
          "data": {
            "text/plain": [
              "<Figure size 640x480 with 1 Axes>"
            ],
            "image/png": "[encoded data removed]"
          },
          "metadata": {}
        }
      ]
    },
    {
      "source": [
        "import matplotlib.pyplot as plt"
      ],
      "cell_type": "code",
      "metadata": {
        "id": "2c0DAnNdkY7s"
      },
      "execution_count": 40,
      "outputs": []
    },
    {
      "cell_type": "code",
      "source": [
        "import tensorflow as ts\n",
        "from tensorflow import keras"
      ],
      "metadata": {
        "id": "-rynEM8KkLDh"
      },
      "execution_count": 42,
      "outputs": []
    },
    {
      "cell_type": "code",
      "source": [
        "# 선형 회귀 구현\n",
        "# 샘플데이터 생성\n",
        "import numpy as np\n",
        "\n",
        "X = np.arange(1, 6)\n",
        "y = 3 * X + 2\n",
        "print(X)\n",
        "print(y)"
      ],
      "metadata": {
        "colab": {
          "base_uri": "https://localhost:8080/"
        },
        "id": "Fr0Ben5rm4-A",
        "outputId": "6fe18f33-a6a2-446b-b1b2-9e93b9bebccb"
      },
      "execution_count": 46,
      "outputs": [
        {
          "output_type": "stream",
          "name": "stdout",
          "text": [
            "[1 2 3 4 5]\n",
            "[ 5  8 11 14 17]\n"
          ]
        }
      ]
    },
    {
      "cell_type": "code",
      "source": [
        "# Sequential API를 활용\n",
        "# 단순 선형 회귀\n",
        "# Layer 가 1개면 가능\n",
        "# 입력 데이터는 피처가 1개\n",
        "# 출력도 하나의 숫자\n",
        "\n",
        "# 첫번째 층은 입력 구조가 필수\n",
        "# 마지막 층의 뉴런의 개수는 출력하느 데이터의 피처의 개수\n",
        "\n",
        "model = tf.keras.Sequential([\n",
        "    tf.keras.layers.Dense(10),\n",
        "    tf.keras.layers.Dense(5),\n",
        "    tf.keras.layers.Dense(1)\n",
        "    ])"
      ],
      "metadata": {
        "id": "lqabyKigsSGj"
      },
      "execution_count": 50,
      "outputs": []
    },
    {
      "cell_type": "code",
      "source": [
        "# 훈련\n",
        "history = model.fit(X,y, epochs = 1000, verbose = 0)"
      ],
      "metadata": {
        "colab": {
          "base_uri": "https://localhost:8080/",
          "height": 365
        },
        "id": "R9yJfs8lxk5D",
        "outputId": "ca0a3643-0a0b-4379-b397-329652b2d914"
      },
      "execution_count": 51,
      "outputs": [
        {
          "output_type": "error",
          "ename": "RuntimeError",
          "evalue": "You must compile your model before training/testing. Use `model.compile(optimizer, loss)`.",
          "traceback": [
            "\u001b[0;31m---------------------------------------------------------------------------\u001b[0m",
            "\u001b[0;31mRuntimeError\u001b[0m                              Traceback (most recent call last)",
            "\u001b[0;32m<ipython-input-51-39ef1efc1692>\u001b[0m in \u001b[0;36m<cell line: 2>\u001b[0;34m()\u001b[0m\n\u001b[1;32m      1\u001b[0m \u001b[0;31m# 훈련\u001b[0m\u001b[0;34m\u001b[0m\u001b[0;34m\u001b[0m\u001b[0m\n\u001b[0;32m----> 2\u001b[0;31m \u001b[0mhistory\u001b[0m \u001b[0;34m=\u001b[0m \u001b[0mmodel\u001b[0m\u001b[0;34m.\u001b[0m\u001b[0mfit\u001b[0m\u001b[0;34m(\u001b[0m\u001b[0mX\u001b[0m\u001b[0;34m,\u001b[0m\u001b[0my\u001b[0m\u001b[0;34m,\u001b[0m \u001b[0mepochs\u001b[0m \u001b[0;34m=\u001b[0m \u001b[0;36m1000\u001b[0m\u001b[0;34m,\u001b[0m \u001b[0mverbose\u001b[0m \u001b[0;34m=\u001b[0m \u001b[0;36m0\u001b[0m\u001b[0;34m)\u001b[0m\u001b[0;34m\u001b[0m\u001b[0;34m\u001b[0m\u001b[0m\n\u001b[0m",
            "\u001b[0;32m/usr/local/lib/python3.10/dist-packages/keras/src/utils/traceback_utils.py\u001b[0m in \u001b[0;36merror_handler\u001b[0;34m(*args, **kwargs)\u001b[0m\n\u001b[1;32m     68\u001b[0m             \u001b[0;31m# To get the full stack trace, call:\u001b[0m\u001b[0;34m\u001b[0m\u001b[0;34m\u001b[0m\u001b[0m\n\u001b[1;32m     69\u001b[0m             \u001b[0;31m# `tf.debugging.disable_traceback_filtering()`\u001b[0m\u001b[0;34m\u001b[0m\u001b[0;34m\u001b[0m\u001b[0m\n\u001b[0;32m---> 70\u001b[0;31m             \u001b[0;32mraise\u001b[0m \u001b[0me\u001b[0m\u001b[0;34m.\u001b[0m\u001b[0mwith_traceback\u001b[0m\u001b[0;34m(\u001b[0m\u001b[0mfiltered_tb\u001b[0m\u001b[0;34m)\u001b[0m \u001b[0;32mfrom\u001b[0m \u001b[0;32mNone\u001b[0m\u001b[0;34m\u001b[0m\u001b[0;34m\u001b[0m\u001b[0m\n\u001b[0m\u001b[1;32m     71\u001b[0m         \u001b[0;32mfinally\u001b[0m\u001b[0;34m:\u001b[0m\u001b[0;34m\u001b[0m\u001b[0;34m\u001b[0m\u001b[0m\n\u001b[1;32m     72\u001b[0m             \u001b[0;32mdel\u001b[0m \u001b[0mfiltered_tb\u001b[0m\u001b[0;34m\u001b[0m\u001b[0;34m\u001b[0m\u001b[0m\n",
            "\u001b[0;32m/usr/local/lib/python3.10/dist-packages/keras/src/engine/training.py\u001b[0m in \u001b[0;36m_assert_compile_was_called\u001b[0;34m(self)\u001b[0m\n\u001b[1;32m   3981\u001b[0m         \u001b[0;31m# (i.e. whether the model is built and its inputs/outputs are set).\u001b[0m\u001b[0;34m\u001b[0m\u001b[0;34m\u001b[0m\u001b[0m\n\u001b[1;32m   3982\u001b[0m         \u001b[0;32mif\u001b[0m \u001b[0;32mnot\u001b[0m \u001b[0mself\u001b[0m\u001b[0;34m.\u001b[0m\u001b[0m_is_compiled\u001b[0m\u001b[0;34m:\u001b[0m\u001b[0;34m\u001b[0m\u001b[0;34m\u001b[0m\u001b[0m\n\u001b[0;32m-> 3983\u001b[0;31m             raise RuntimeError(\n\u001b[0m\u001b[1;32m   3984\u001b[0m                 \u001b[0;34m\"You must compile your model before \"\u001b[0m\u001b[0;34m\u001b[0m\u001b[0;34m\u001b[0m\u001b[0m\n\u001b[1;32m   3985\u001b[0m                 \u001b[0;34m\"training/testing. \"\u001b[0m\u001b[0;34m\u001b[0m\u001b[0;34m\u001b[0m\u001b[0m\n",
            "\u001b[0;31mRuntimeError\u001b[0m: You must compile your model before training/testing. Use `model.compile(optimizer, loss)`."
          ]
        }
      ]
    },
    {
      "source": [
        "from tensorflow.keras.models import Sequential\n",
        "from tensorflow.keras.layers import Dense"
      ],
      "cell_type": "code",
      "metadata": {
        "id": "v97fbgtxx-6z"
      },
      "execution_count": 52,
      "outputs": []
    },
    {
      "source": [
        "model = Sequential([\n",
        "    Dense(units=128, activation='relu', input_shape=(10,)),\n",
        "    Dense(units=64, activation='relu'),\n",
        "    Dense(units=10, activation='linear')\n",
        "])"
      ],
      "cell_type": "code",
      "metadata": {
        "id": "cFjKJZC1x_ON"
      },
      "execution_count": 53,
      "outputs": []
    },
    {
      "source": [
        "model.compile(optimizer='adam', loss='mean_squared_error')"
      ],
      "cell_type": "code",
      "metadata": {
        "id": "fvkSwCRzx_oa"
      },
      "execution_count": 54,
      "outputs": []
    },
    {
      "cell_type": "code",
      "source": [
        "# 훈련 과정에서 발생한 손실 과 평가 지표를 시각화\n",
        "plt.plot(history.histroy['loss'], label = )"
      ],
      "metadata": {
        "id": "bAkmHaE2yIxG"
      },
      "execution_count": null,
      "outputs": []
    },
    {
      "cell_type": "code",
      "source": [
        "# 검증\n",
        "model.evoluate(X, y)\n"
      ],
      "metadata": {
        "id": "qrI1Wvycy7GJ"
      },
      "execution_count": null,
      "outputs": []
    }
  ]
}