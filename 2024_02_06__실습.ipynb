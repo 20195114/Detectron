{
  "nbformat": 4,
  "nbformat_minor": 0,
  "metadata": {
    "colab": {
      "provenance": [],
      "toc_visible": true,
      "authorship_tag": "ABX9TyMsxQOAY2Ufj2YP06ST9PO7",
      "include_colab_link": true
    },
    "kernelspec": {
      "name": "python3",
      "display_name": "Python 3"
    },
    "language_info": {
      "name": "python"
    }
  },
  "cells": [
    {
      "cell_type": "markdown",
      "metadata": {
        "id": "view-in-github",
        "colab_type": "text"
      },
      "source": [
        "<a href=\"https://colab.research.google.com/github/20195114/Detectron/blob/main/2024_02_06__%EC%8B%A4%EC%8A%B5.ipynb\" target=\"_parent\"><img src=\"https://colab.research.google.com/assets/colab-badge.svg\" alt=\"Open In Colab\"/></a>"
      ]
    },
    {
      "cell_type": "code",
      "execution_count": 3,
      "metadata": {
        "colab": {
          "base_uri": "https://localhost:8080/"
        },
        "id": "5WrvX0Wn7jpX",
        "outputId": "d3697ed2-7eb4-4c92-a538-d770044af62a"
      },
      "outputs": [
        {
          "output_type": "stream",
          "name": "stdout",
          "text": [
            "[1 3 5 7 9]\n"
          ]
        }
      ],
      "source": [
        "# 1부터 10까지 홀수를 가진 배열을 생성\n",
        "import numpy as np\n",
        "ar = np.arange(1, 10, 2)\n",
        "print(ar)"
      ]
    },
    {
      "cell_type": "code",
      "source": [
        "# 의미없는 값으로 배열을 생성\n",
        "ar = np.empty(10)\n",
        "print(ar)"
      ],
      "metadata": {
        "colab": {
          "base_uri": "https://localhost:8080/"
        },
        "id": "pqw3yZdA8Qbo",
        "outputId": "ed593b91-4d47-4abb-d289-82489b0698a3"
      },
      "execution_count": 4,
      "outputs": [
        {
          "output_type": "stream",
          "name": "stdout",
          "text": [
            "[4.86189404e-310 0.00000000e+000 0.00000000e+000 0.00000000e+000\n",
            " 0.00000000e+000 2.87832081e+180 7.61482389e+169 7.73804033e-091\n",
            " 1.72537235e-047 8.14023178e-315]\n"
          ]
        }
      ]
    },
    {
      "cell_type": "code",
      "source": [
        "# 주 대각선 방향이 1인 3 * 3 정방 행렬 생성\n",
        "ar = np.eye(3)\n",
        "print(ar)\n",
        "\n",
        "# 행렬에서 주 대각선의 데이터만 골라서 배열을 생성\n",
        "print(np.diag(ar))"
      ],
      "metadata": {
        "colab": {
          "base_uri": "https://localhost:8080/"
        },
        "id": "5DtN4k4b_Fai",
        "outputId": "beb65d48-724c-4c7e-b469-8c166ee0fc4b"
      },
      "execution_count": 9,
      "outputs": [
        {
          "output_type": "stream",
          "name": "stdout",
          "text": [
            "[[1. 0. 0.]\n",
            " [0. 1. 0.]\n",
            " [0. 0. 1.]]\n",
            "[1. 1. 1.]\n"
          ]
        }
      ]
    },
    {
      "cell_type": "code",
      "source": [
        "# 데이터 타입 확인과 형 변환\n",
        "import numpy as np\n",
        "ar = np.array([1, \"2\", 3]) # 숫자와 문자열을 가지고 배열을 생성 - 문자\n",
        "print(ar.dtype)\n",
        "\n",
        "br = np.array([1, 2.3, 3]) # 정수와 실수 혼합\n",
        "print(br.dtype)\n",
        "\n",
        "# ar 배열에서 자료형을 변수로 변환\n",
        "cr = np.array(np.int32)\n",
        "print(cr.dtype)"
      ],
      "metadata": {
        "colab": {
          "base_uri": "https://localhost:8080/"
        },
        "id": "52oW0ellF8hR",
        "outputId": "413a0105-391e-4b55-a277-b83f3e7b0465"
      },
      "execution_count": 14,
      "outputs": [
        {
          "output_type": "stream",
          "name": "stdout",
          "text": [
            "<U21\n",
            "float64\n",
            "object\n"
          ]
        }
      ]
    },
    {
      "cell_type": "code",
      "source": [
        "import numpy as np\n",
        "# 0부터 19까지의 숫자를 가지고 1차원 배열 생성\n",
        "ar = np.arange(20)\n",
        "print(ar)\n",
        "\n",
        "#ar 을 4*5 짜리 2차원 배열 생성\n",
        "ar = np.arange(20)\n",
        "print(ar)\n",
        "\n",
        "#ar 을 4*5 짜리 2차원 배열로 변환\n",
        "# 5를 대신에 -1을 대입해도 결과는 동일 합니다.\n",
        "#20 개의 데이터는 4행으로 만들려면 5열 밖에 안됩니다.\n",
        "matrix = ar.reshape((4,-1))\n",
        "print(matrix)\n",
        "\n",
        "#다차원 데이터를 1차원으로 변환\n",
        "# br = matrix.reshape(-1)\n",
        "br = matrix.flatten()\n",
        "print(br)"
      ],
      "metadata": {
        "colab": {
          "base_uri": "https://localhost:8080/"
        },
        "id": "WuqVCTk9SUGq",
        "outputId": "1e968bb7-9545-4cef-ce96-98da518a5373"
      },
      "execution_count": 16,
      "outputs": [
        {
          "output_type": "stream",
          "name": "stdout",
          "text": [
            "[ 0  1  2  3  4  5  6  7  8  9 10 11 12 13 14 15 16 17 18 19]\n",
            "[ 0  1  2  3  4  5  6  7  8  9 10 11 12 13 14 15 16 17 18 19]\n",
            "[[ 0  1  2  3  4]\n",
            " [ 5  6  7  8  9]\n",
            " [10 11 12 13 14]\n",
            " [15 16 17 18 19]]\n",
            "[ 0  1  2  3  4  5  6  7  8  9 10 11 12 13 14 15 16 17 18 19]\n"
          ]
        }
      ]
    },
    {
      "cell_type": "code",
      "source": [
        "ar = np.arange(10)\n",
        "matrix = ar.reshape((2,-1))\n",
        "\n",
        "print(ar[0])\n",
        "print(ar[-1])\n",
        "\n",
        "print(matrix[0,2])\n",
        "print(matrix [0][2])"
      ],
      "metadata": {
        "colab": {
          "base_uri": "https://localhost:8080/"
        },
        "id": "zHzmpJ9oVPjj",
        "outputId": "14aa2e0b-4fbf-4801-c3b0-fb3887450b1d"
      },
      "execution_count": 22,
      "outputs": [
        {
          "output_type": "stream",
          "name": "stdout",
          "text": [
            "0\n",
            "9\n",
            "2\n",
            "2\n"
          ]
        }
      ]
    },
    {
      "cell_type": "code",
      "source": [
        "# 배열에서 범위를 이용한 접근\n",
        "ar = np.arange(10)\n",
        "matrix = ar.reshape((2,-1))\n",
        "\n",
        "print(ar[1:4])\n",
        "print(ar[5:])\n",
        "print(ar[:4])\n",
        "print(ar[:])\n",
        "\n",
        "\n",
        "# 이차원 배열에서의 접근\n",
        "print(matrix[1][1:3])\n",
        "print(matrix[1])\n",
        "print(matrix[:,1])"
      ],
      "metadata": {
        "colab": {
          "base_uri": "https://localhost:8080/"
        },
        "id": "krXG8fEkWRhu",
        "outputId": "d6ec03f1-5319-4072-f0d5-593497e12625"
      },
      "execution_count": 24,
      "outputs": [
        {
          "output_type": "stream",
          "name": "stdout",
          "text": [
            "[1 2 3]\n",
            "[5 6 7 8 9]\n",
            "[0 1 2 3]\n",
            "[0 1 2 3 4 5 6 7 8 9]\n",
            "[6 7]\n",
            "[5 6 7 8 9]\n",
            "[1 6]\n"
          ]
        }
      ]
    },
    {
      "cell_type": "code",
      "source": [
        "# 배열 생성\n",
        "ar = np.arange(10)\n",
        "print(ar)\n",
        "# 범위를 이용해서 데이터를 가져오는 것 - 참조를 복사합니다.\n",
        "br = ar[0:4].copy() # 데이터를 복제해서 br 이 가리키도록 합니다.\n",
        "print(br)\n",
        "# br[0] 을 수정하면 ar 의 데이터도 영향을 받게 됩니다.\n",
        "br[0] = 42\n",
        "print(br)\n",
        "print(ar)"
      ],
      "metadata": {
        "colab": {
          "base_uri": "https://localhost:8080/"
        },
        "id": "yy223rnrZcrz",
        "outputId": "27aff899-b8b3-4883-e9f1-4368ae21b07b"
      },
      "execution_count": 28,
      "outputs": [
        {
          "output_type": "stream",
          "name": "stdout",
          "text": [
            "[0 1 2 3 4 5 6 7 8 9]\n",
            "[0 1 2 3]\n",
            "[42  1  2  3]\n",
            "[0 1 2 3 4 5 6 7 8 9]\n"
          ]
        }
      ]
    },
    {
      "cell_type": "code",
      "source": [
        "ar = np.arange(10)\n",
        "\n",
        "#Fanch indexing\n",
        "#데이터를 복제합니다.\n",
        "br = ar[[1, 3, 5, 7]]\n",
        "print(br)\n",
        "br[0]= 15700\n",
        "print(br)\n",
        "print(ar)\n"
      ],
      "metadata": {
        "colab": {
          "base_uri": "https://localhost:8080/"
        },
        "id": "f4J_vjj1eq40",
        "outputId": "10903c3e-bc9c-48ca-bc23-5bcb8a72658f"
      },
      "execution_count": 30,
      "outputs": [
        {
          "output_type": "stream",
          "name": "stdout",
          "text": [
            "[1 3 5 7]\n",
            "[15700     3     5     7]\n",
            "[0 1 2 3 4 5 6 7 8 9]\n"
          ]
        }
      ]
    },
    {
      "cell_type": "code",
      "source": [
        "matrix = ar.reshape((2,-1))\n",
        "print(matrix)\n",
        "\n",
        "print(matrix[:, 0])\n",
        "# 이차원 배열에서 list를 이용해서 행 번호나 열 번호를 지정하면 이차원 배열이 만들어집니다.\n",
        "print(matrix[:, [0]])\n",
        "# numpy의 ndarray 나 pandas 의 DataFrame 에서\n",
        "# 하나의 열을 선택할 때 list로 설정하는 경우는 구조를 유지하기 위해서 입니다."
      ],
      "metadata": {
        "colab": {
          "base_uri": "https://localhost:8080/"
        },
        "id": "K48i5QOmfQdR",
        "outputId": "169b1e09-ace7-4f6d-cc86-c6baff010575"
      },
      "execution_count": 33,
      "outputs": [
        {
          "output_type": "stream",
          "name": "stdout",
          "text": [
            "[[0 1 2 3 4]\n",
            " [5 6 7 8 9]]\n",
            "[0 5]\n",
            "[[0]\n",
            " [5]]\n"
          ]
        }
      ]
    },
    {
      "cell_type": "code",
      "source": [
        "print([1, 2, 3] and [1, 2, 3])\n",
        "\n",
        "print(bool([1, 2, 3] and [1, 2, 3]))\n",
        "print(bool([1, 2, 3] and []))"
      ],
      "metadata": {
        "colab": {
          "base_uri": "https://localhost:8080/"
        },
        "id": "wNFdh1NdiGuD",
        "outputId": "80c1eea0-a068-4ce1-94f6-1c5867105517"
      },
      "execution_count": 38,
      "outputs": [
        {
          "output_type": "stream",
          "name": "stdout",
          "text": [
            "[1, 2, 3]\n",
            "True\n",
            "False\n"
          ]
        }
      ]
    },
    {
      "cell_type": "code",
      "source": [
        "# 이차원 배열\n",
        "matrix = ar.reshape((2, -1))\n",
        "# 브로드캐스트 연산\n",
        "# 차원이 다른 경우 차원을 순회하면서 연산을 수행\n",
        "print(matrix + 10)\n",
        "data = np.array([100, 200, 300, 400, 500])\n",
        "print(matrix + data)"
      ],
      "metadata": {
        "colab": {
          "base_uri": "https://localhost:8080/"
        },
        "id": "nxUjZAN4ilhP",
        "outputId": "928c8d54-85fc-41b5-8b29-84620fbc995c"
      },
      "execution_count": 42,
      "outputs": [
        {
          "output_type": "stream",
          "name": "stdout",
          "text": [
            "[[10 11 12 13 14]\n",
            " [15 16 17 18 19]]\n",
            "[[100 201 302 403 504]\n",
            " [105 206 307 408 509]]\n"
          ]
        }
      ]
    },
    {
      "cell_type": "code",
      "source": [
        "print(matrix)\n",
        "print(ar)\n",
        "# 브로드캐스트 연산\n",
        "# numpy의 ndarray 와 논리연산을 수행하면 bool 배열의 만들어 집니다.\n",
        "print(ar == 3)\n",
        "# 인덱스의 bool 배열을 대입하면 True 인 데이터만 추출됩니다.\n",
        "print(ar[ar % 2 == 1])\n",
        "# 홀수이거나 4의 배수이 데이터만 골라내기\n",
        "print(ar[(ar % 2 == 1) | (ar % 4 == 0)])"
      ],
      "metadata": {
        "colab": {
          "base_uri": "https://localhost:8080/"
        },
        "id": "bBWLXLSGkCm3",
        "outputId": "11acb768-b6ae-4700-c616-d491d8ea081b"
      },
      "execution_count": 45,
      "outputs": [
        {
          "output_type": "stream",
          "name": "stdout",
          "text": [
            "[[0 1 2 3 4]\n",
            " [5 6 7 8 9]]\n",
            "[0 1 2 3 4 5 6 7 8 9]\n",
            "[False False False  True False False False False False False]\n",
            "[1 3 5 7 9]\n",
            "[0 1 3 4 5 7 8 9]\n"
          ]
        }
      ]
    }
  ]
}